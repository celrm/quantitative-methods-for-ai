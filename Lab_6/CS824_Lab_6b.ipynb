{
 "cells": [
  {
   "cell_type": "markdown",
   "metadata": {},
   "source": [
    "<div style=\"text-align: right\"> CS824 - Lab 6b (2022) </div>\n",
    "\n",
    "# Using NumPy arrays to work with vectors\n",
    "\n",
    "A 1-D array can be thought of as a vector, while 2-D arrays are now the preferred way in Python of carrying out operations involving matrices (i.e. there is no real need to use the `matrix` data type)...\n",
    "\n",
    "Remember that a vector is just a tuple of (typically two or more) scalar values.\n",
    "\n",
    "So we might have a vector `v` made up of (s1, s2, s3) - i.e. 3 scalar values (often integers or reals).\n"
   ]
  },
  {
   "cell_type": "code",
   "execution_count": null,
   "metadata": {
    "button": false,
    "new_sheet": false,
    "run_control": {
     "read_only": false
    },
    "scrolled": true
   },
   "outputs": [],
   "source": [
    "# However, this is NOT the same as a tuple or even a list in Python - we explictly need to specify the \n",
    "# variable as being of type array\n",
    "\n",
    "import numpy as np\n",
    "import matplotlib.pyplot as plt\n",
    "\n",
    "v1 = (2, 4, 7)\n",
    "print(v1)\n",
    "\n",
    "v2 = ([2, 4, 7])\n",
    "print(v2)\n",
    "\n",
    "v3 = np.array([2, 4, 7])\n",
    "print(v3)\n"
   ]
  },
  {
   "cell_type": "markdown",
   "metadata": {
    "button": false,
    "new_sheet": false,
    "run_control": {
     "read_only": false
    }
   },
   "source": [
    "While these may look similar they are in fact quite different sorts of objects as you can see by executing the *magic* `%whos` command.\n"
   ]
  },
  {
   "cell_type": "code",
   "execution_count": null,
   "metadata": {
    "button": false,
    "new_sheet": false,
    "run_control": {
     "read_only": false
    },
    "scrolled": true
   },
   "outputs": [],
   "source": [
    "%whos"
   ]
  },
  {
   "cell_type": "markdown",
   "metadata": {
    "button": false,
    "new_sheet": false,
    "run_control": {
     "read_only": false
    }
   },
   "source": [
    "## Exercise 6b1\n",
    "\n",
    "Create two simple 2-D vectors `a` = (4, 1) and `b` = (2, 2).\n",
    "\n",
    "(Remember to construct these as NumPy arrays - if you simple create 2 lists they will not 'behave' as you should expect from vector algebra.)\n",
    "\n",
    " - add these vectors together\n",
    " - multiply them by various scalar values (positive and negative)\n",
    "\n",
    "Do the resulting vectors 'make sense' to you...\n"
   ]
  },
  {
   "cell_type": "markdown",
   "metadata": {
    "button": false,
    "new_sheet": false,
    "run_control": {
     "read_only": false
    }
   },
   "source": [
    "## Visualising arrays with 2 elements in x-y Euclidean space\n",
    "\n",
    "As mentioned in the mini-lectures it is often useful to think of vectors as arrows pointing into space (the 'physicists' view), which allows for various **geometric** interpretations. In the case of a 1-D array with two elements this would be in 2-D space (i.e. typically `x-y` Euclidean space). A 1-D array with three elements would represent points in 3-D space (typically visualised as `x-y-z` space). A 1-D array with four elements moves us into 4-D space, but for >3-D space we have some trouble coming up with simple visualisations!\n",
    "\n",
    "In any case, sticking to the simple 2-D case - i.e. a 1-D array with two elements, such as the examples above - we can have a shot at visualising these.  \n",
    "\n",
    "However, unlike graphics such as scatterplots or histograms, visualising vectors is not that straighforward in Python. Some of you may disagree and/or prove me wrong but I have not found a simple approach. There is a **pyGame** library that may make things easier, but I have not had time to explore it properly. So the solution below feels a bit 'clunky' and seems like a lot of work just to show 3 lines, but using the `quiver` plot was the best option I could come up with (that did not involve explitly finding the end points of each line and specifying that).\n"
   ]
  },
  {
   "cell_type": "code",
   "execution_count": null,
   "metadata": {
    "button": false,
    "new_sheet": false,
    "run_control": {
     "read_only": false
    },
    "scrolled": true
   },
   "outputs": [],
   "source": [
    "Vectors = np.array([[4,1],[2,2],[-1,-5]])\n",
    "\n",
    "# This specifies a list of three vectors, including the two you created in Exercise 6b1.               \n",
    "\n",
    "x_org = np.array((0,0,0))           # specify the x-origin point\n",
    "y_org = np.array((0,0,0))           # specify the y-origin point  \n",
    "\n",
    "fig, ax = plt.subplots()\n",
    "q = ax.quiver(x_org, y_org, Vectors[:,0], Vectors[:,1], color=['r','b','g'], units='xy' ,scale=1)\n",
    "\n",
    "# Just to make things look a bit 'nicer'\n",
    "plt.grid()\n",
    "ax.set_aspect('equal')\n",
    "plt.xlim(-7,7)\n",
    "plt.ylim(-7,7)\n",
    "\n",
    "\n",
    "plt.show()\n"
   ]
  },
  {
   "cell_type": "code",
   "execution_count": null,
   "metadata": {
    "button": false,
    "new_sheet": false,
    "run_control": {
     "read_only": false
    },
    "scrolled": true
   },
   "outputs": [],
   "source": [
    "x_org2 = np.array((0))           # specify the x-origin point\n",
    "y_org2 = np.array((0))           # specify the y-origin point\n",
    "\n",
    "fig, ax = plt.subplots()\n",
    "q = ax.quiver(x_org, y_org, Vectors[:,0], Vectors[:,1], color=['r','b','g'], units='xy' ,scale=1)\n",
    "\n",
    "# Just to make things look a bit 'nicer'\n",
    "plt.grid()\n",
    "ax.set_aspect('equal')\n",
    "plt.xlim(-7,7)\n",
    "plt.ylim(-7,7)\n",
    "\n",
    "\n",
    "# We can now look at adding the vectors [A] and [B] and see what this looks like on the graph.\n",
    "c = Vectors[0] + Vectors[1]\n",
    "\n",
    "plt.quiver(x_org2, y_org2, c[0], c[1], color=['k'], units='xy' ,scale=1)\n",
    "\n",
    "plt.show()\n"
   ]
  },
  {
   "cell_type": "code",
   "execution_count": null,
   "metadata": {
    "button": false,
    "new_sheet": false,
    "run_control": {
     "read_only": false
    },
    "scrolled": true
   },
   "outputs": [],
   "source": [
    "c"
   ]
  },
  {
   "cell_type": "markdown",
   "metadata": {
    "button": false,
    "new_sheet": false,
    "run_control": {
     "read_only": false
    }
   },
   "source": [
    "I did warn you that drawing vectors in Python can be a bit more tricky than simply using pen and paper!!\n",
    "\n",
    "You may choose to check out any of the other transformations below visually by modifying the Python code above, or you might just trust your maths and/or sketch things out with pen and paper ;- )\n"
   ]
  },
  {
   "cell_type": "code",
   "execution_count": null,
   "metadata": {
    "button": false,
    "new_sheet": false,
    "run_control": {
     "read_only": false
    },
    "scrolled": true
   },
   "outputs": [],
   "source": [
    "# Below we move 3 times in direction [a] (12, 3) and then 2 times in direction [b] (4, 4), taking us to (16, 7)\n",
    "d = 3*a + 2*b\n",
    "# or 3*Vectors[0] + 2*Vectors[1] \n",
    "print(d)\n",
    "\n",
    "# Move negative 0.5 times in direction [a] (-2, -0.5)  then 3 times in direction [b] (6, 6), taking us to (4, 5.5)\n",
    "e = -0.5*a + 3*b\n",
    "print(e)\n",
    "\n",
    "# And if we made that move from the location we had reached at 'd', we would arrive at (20, 12.5)\n",
    "f = d + (-0.5*a + 3*b)\n",
    "f2 = (d -0.5*a) + 3*b         # NB vector addition is associative\n",
    "print(f)\n",
    "print(f2)\n"
   ]
  },
  {
   "cell_type": "markdown",
   "metadata": {
    "button": false,
    "new_sheet": false,
    "run_control": {
     "read_only": false
    }
   },
   "source": [
    "## Exercise 6b2\n",
    "\n",
    "Let's say we have the minimum and maximum temperatures (in Celsius) for seven days in Glasgow as follows:\n",
    " - Min = 9.5, 13, 12, 15, 11, 10, 12.5\n",
    " - Max = 22, 24, 19.5, 26, 23, 22.5, 27\n",
    " \n",
    "We should create two 1-D vectors of length 7 to represent these values.\n",
    "(You could also create a single 2-D vector with 2 rows and 7 columns, but this may be a bit more tricky to manage if you are just starting with arrays/vectors.)\n",
    "\n",
    "1. Use vector substraction to produce an array showing the temperature differences over these 7 days.\n",
    "1. Let's say we have a friend from the US and we want to let them know the maximum temperatures in Fahrenheit.\n",
    "> The rough formula to get a Celsius value from Fahrenheit is:  C = 5/9 * (F - 32)\n",
    "1. Now also let your US friend get a sense of the daily temperature differences in Fahrenheit. \n"
   ]
  },
  {
   "cell_type": "markdown",
   "metadata": {},
   "source": [
    "## The 'dot' product for vectors\n",
    "\n",
    "Often in linear algebra we wish to look at the 'dot' product of two vectors, rather than just multiplying them element-wise.\n",
    "\n",
    "To do this we use the `dot` function from NumPy.\n"
   ]
  },
  {
   "cell_type": "markdown",
   "metadata": {
    "button": false,
    "new_sheet": false,
    "run_control": {
     "read_only": false
    }
   },
   "source": [
    "## Exercise 6b3\n",
    "\n",
    "Check out the dot product between your two vectors `a` = (4, 1) and `b` = (2, 2).\n",
    "\n",
    " - was this the value you expected?\n",
    " - generate a dot product with `a` for a vector that points in a different (opposing) direction (For example, `Vectors[2]` in the example above.)\n",
    " - can you use the dot product to check that some new vector you create is 'orthogonal' (at right angles to) `a`?\n"
   ]
  },
  {
   "cell_type": "markdown",
   "metadata": {},
   "source": [
    "## The 'dot' product and angles between vectors\n",
    "\n",
    "In class we noted that there was also a formula for find `theta` the angle between 2 vectors as follows:\n",
    "\n",
    "> Cos(`theta`) = `a` dot `b` /|`a`| * |`b`|\n",
    "\n",
    "Use this to find the size of the angle between two of the vectors we have been working with...\n"
   ]
  },
  {
   "cell_type": "code",
   "execution_count": null,
   "metadata": {},
   "outputs": [],
   "source": [
    "import math\n",
    "\n",
    "a_magn = math.sqrt((a[0])**2 + (a[1])**2)\n",
    "b_magn = math.sqrt((b[0])**2 + (b[1])**2)\n",
    "\n",
    "cos_of_angle = np.dot(a, b) /(a_magn * b_magn)\n",
    "angle = np.arccos(cos_of_angle)\n",
    "print(angle)\n",
    "\n",
    "# The defualt is radians, but we will convert to the more 'typical' way of thinking in terms of degrees below...\n"
   ]
  },
  {
   "cell_type": "markdown",
   "metadata": {},
   "source": [
    "## Using `norm` to calculate magnitudes (in Euclidean space)\n",
    "\n",
    "In the example about calculated the magnitude to `a` and `b` using Euclidean goemetry and would have to modify our function to deal with vectors in higher than two dimensional space. However, using the `norm` vector operator from NumPy we could get these magnitude values directly and these hold for any number of dimensions. \n",
    "\n",
    "The '2-norm' (i.e. the most common Euclidean goemetry, also known as the 'Frobenius' norm) is the default...\n"
   ]
  },
  {
   "cell_type": "code",
   "execution_count": null,
   "metadata": {},
   "outputs": [],
   "source": [
    "from numpy import linalg as LA      # just one more Pythonic 'convention'  (obviously you could use the long-hand)\n",
    "\n",
    "cos_of_angle2 = np.dot(a, b) /(LA.norm(a) * LA.norm(b))\n",
    "angle2 = np.arccos(cos_of_angle2)\n",
    "print(\"The angle is radians is: {0:.3f}\".format(angle2))\n",
    "print(\"The angle is degrees is: {0:.1f}\".format(np.degrees(angle2)))       # for those less familar with radians\n"
   ]
  },
  {
   "cell_type": "code",
   "execution_count": null,
   "metadata": {},
   "outputs": [],
   "source": [
    "# Looking at the first and third members of our 'Vectors[]' above they are clearly at more\n",
    "# than right angles apart, but what is the size of this angle?\n",
    "\n",
    "cos_of_angle3 = np.dot(Vectors[0], Vectors[2]) /(LA.norm(Vectors[0]) * LA.norm(Vectors[2]))\n",
    "angle3 = np.arccos(cos_of_angle3)\n",
    "print(\"The angle is radians is: {0:.3f}\".format(angle3))\n",
    "print(\"The angle is degrees is: {0:.1f}\".format(np.degrees(angle3)))       # for those less familar with radians\n"
   ]
  },
  {
   "cell_type": "markdown",
   "metadata": {
    "button": false,
    "new_sheet": false,
    "run_control": {
     "read_only": false
    }
   },
   "source": [
    "## Exercise 6b4\n",
    "\n",
    "Use this approach to explore the angles between some of the vectors that you compared with `a` and `b` above\n",
    "\n",
    " - including those that pointed in a different (opposing) direction \n",
    " - and those that were 'orthogonal' (at right angles to) `a`?\n"
   ]
  },
  {
   "cell_type": "markdown",
   "metadata": {},
   "source": [
    "## Other values of `norm` when thinking about magnitude\n",
    "\n",
    "By far the most common measure of magnitude is the Euclidean one (i.e. `norm` = 2), particularly in 2-D and 3-D space. However, there are many other ways to measure the magnitude of a vector, with the other most commonly used ones arguably being the 1-norm (sometimes referred to as the 'Manhattan'/'taxi-cab' distance) and the infinity-norm.\n",
    "\n",
    "You could look at the values of these for our `a` and `b` vectors (or any others you are interested in) to get a better sense for what the notion of `norm` means. \n"
   ]
  },
  {
   "cell_type": "code",
   "execution_count": null,
   "metadata": {},
   "outputs": [],
   "source": [
    "# The 1-norm, 2-norm and infinity-norm cases\n",
    "\n",
    "magn1_a = LA.norm(a, ord=1)\n",
    "magn2_a = LA.norm(a)                        # An ord=2 is implied by default\n",
    "magn_inf_a = LA.norm(a, ord=np.inf)\n",
    "magn1_b = LA.norm(b, ord=1)\n",
    "magn2_b = LA.norm(b)\n",
    "magn_inf_b = LA.norm(b, ord=np.inf)\n",
    "\n",
    "print(\"For array {0} we get the following:\".format(a))\n",
    "print(\"The 1-norm magnitude is: {0:.1f}\".format(magn1_a))\n",
    "print(\"The 2-norm magnitude is: {0:.3f}\".format(magn2_a))\n",
    "print(\"The infinity-norm magnitude is: {0:.1f}\".format(magn_inf_a))\n",
    "print(\"------------------------------\")\n",
    "print(\"For array {0} we get the following:\".format(b))\n",
    "print(\"The 1-norm magnitude is: {0:.1f}\".format(magn1_b))\n",
    "print(\"The 2-norm magnitude is: {0:.3f}\".format(magn2_b))\n",
    "print(\"The infinity-norm magnitude is: {0:.1f}\".format(magn_inf_b))\n"
   ]
  },
  {
   "cell_type": "markdown",
   "metadata": {},
   "source": [
    "Enough for the moment on vectors...  we will now look at their relationships to matrices (**Lab_6c**)...\n"
   ]
  }
 ],
 "metadata": {
  "kernelspec": {
   "display_name": "Python 3",
   "language": "python",
   "name": "python3"
  },
  "language_info": {
   "codemirror_mode": {
    "name": "ipython",
    "version": 3
   },
   "file_extension": ".py",
   "mimetype": "text/x-python",
   "name": "python",
   "nbconvert_exporter": "python",
   "pygments_lexer": "ipython3",
   "version": "3.7.4"
  }
 },
 "nbformat": 4,
 "nbformat_minor": 1
}
