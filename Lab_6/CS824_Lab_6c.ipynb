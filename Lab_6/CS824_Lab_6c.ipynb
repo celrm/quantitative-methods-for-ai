{
 "cells": [
  {
   "cell_type": "markdown",
   "metadata": {},
   "source": [
    "<div style=\"text-align: right\"> CS824 - Lab 6c (2022) </div>\n",
    "\n",
    "# Working with matrices as well as vectors\n",
    "\n",
    "We will be using 2-D arrays to represent matrices (as the NumPy developers have noted that the `matrix` data type is likely soon to be depricated), and as of Python version 3.5 there is a built-in operator (`@`) for matrix (as opposed to element-wise) multiplication...  (Previously the `*` operator was interpreted as 'matrix multiplication' when applied to `matrix` objects, but that was about the only reason that you would have used that specific data type prior to the `@` operator being available. However, you do need to remember that when applyng the `*` operator to arrays of any dimensions - including 2-D arrays to represent classic matrices - this will always be interpreted as a request to carry out element-wise multiplication.) \n",
    "\n",
    "We have already seen some non 1-D arrays, so strictly speaking we have already seen some matrix objects. However, here we will be a bit more 'formal' and stick to creating `vectors` that will be one dimensional and matrices which will be `2-D arrays`. \n"
   ]
  },
  {
   "cell_type": "code",
   "execution_count": null,
   "metadata": {
    "button": false,
    "new_sheet": false,
    "run_control": {
     "read_only": false
    },
    "scrolled": true
   },
   "outputs": [],
   "source": [
    "# We have already seen that vectors can be created as row- or column- based arrays in one-dimension\n",
    "\n",
    "import numpy as np\n",
    "\n",
    "# A vector as a single row\n",
    "row_vec = np.array([3, 4, 7])\n",
    "\n",
    "# Or as a single column\n",
    "col_vec = np.array([[3],\n",
    "                    [4],\n",
    "                    [7]])\n",
    "\n",
    "# You can also make a column vector by `re-shaping` a row vector\n",
    "col_vec2 = row_vec.reshape(3, 1)\n",
    "\n",
    "print(row_vec)\n",
    "print(col_vec)\n",
    "print(col_vec2)\n"
   ]
  },
  {
   "cell_type": "markdown",
   "metadata": {
    "button": false,
    "new_sheet": false,
    "run_control": {
     "read_only": false
    }
   },
   "source": [
    "Strictly you should **not** use the `transpose` operator (`T` method) to achieve this row-to-column transformation as a vector is just a collection of values (a 'tuple') and therefore does not have row/column indices that can be switched (`transpose`). However, you will sometimes see code that does this - perhaps because people think of this as the 1-D equivalent to the matrix transformations we will explore below.\n"
   ]
  },
  {
   "cell_type": "code",
   "execution_count": null,
   "metadata": {
    "button": false,
    "new_sheet": false,
    "run_control": {
     "read_only": false
    },
    "scrolled": true
   },
   "outputs": [],
   "source": [
    "# Generate a single column vector by taking the transpose of a row vector. \n",
    "# Note the second set of [] that is required to make this happen.\n",
    "\n",
    "col_vec3 = np.array([[3, 4, 7]]).T\n",
    "\n",
    "print(col_vec3)\n"
   ]
  },
  {
   "cell_type": "markdown",
   "metadata": {
    "button": false,
    "new_sheet": false,
    "run_control": {
     "read_only": false
    }
   },
   "source": [
    "## Create an NxN matrix and generate its transpose\n",
    "\n",
    "Let's create an NxN (here 4x4) matrix and use the `T` method to get its transpose.\n"
   ]
  },
  {
   "cell_type": "code",
   "execution_count": null,
   "metadata": {
    "button": false,
    "new_sheet": false,
    "run_control": {
     "read_only": false
    },
    "scrolled": true
   },
   "outputs": [],
   "source": [
    "# A matrix with 4 rows and 4 columns\n",
    "mat_A = np.array([[1, 5,  9, 13],\n",
    "                  [2, 6, 10, 14],\n",
    "                  [3, 7, 11, 15],\n",
    "                  [4, 8, 12, 16]])\n",
    "\n",
    "print(mat_A)\n",
    "print(\"-----------------and its transpose\")\n",
    "print(mat_A.T)\n"
   ]
  },
  {
   "cell_type": "markdown",
   "metadata": {
    "button": false,
    "new_sheet": false,
    "run_control": {
     "read_only": false
    }
   },
   "source": [
    "## Inverting a matrix\n",
    "\n",
    "This should NOT be confused with a transpostion. A couple of points:\n",
    " - you can *only* invert **square** matrices\n",
    " - some matrices cannot be inverted\n",
    "\n",
    "The defintion of the inverse of a square matrix `[A]` is a second matrix `[A-1`, such that:\n",
    "> `[A]` `[A-1]` = `I`    (the identity matrix)\n"
   ]
  },
  {
   "cell_type": "code",
   "execution_count": null,
   "metadata": {
    "button": false,
    "new_sheet": false,
    "run_control": {
     "read_only": false
    },
    "scrolled": true
   },
   "outputs": [],
   "source": [
    "# Let's see what happens with our matrix above...\n",
    "# It should generate a 'Singular matrix' error - in other words this particular matrix cannot be inverted.\n",
    "\n",
    "from numpy import linalg as LA \n",
    "\n",
    "mat_A_invert = LA.inv(mat_A)\n"
   ]
  },
  {
   "cell_type": "code",
   "execution_count": null,
   "metadata": {
    "button": false,
    "new_sheet": false,
    "run_control": {
     "read_only": false
    },
    "scrolled": true
   },
   "outputs": [],
   "source": [
    "# Let's start with a simpler 2x2 matrix\n",
    "mat_B = np.array([[1, 4],\n",
    "                  [2, 5]])\n",
    "\n",
    "mat_B_invert = LA.inv(mat_B)\n",
    "print(mat_B)\n",
    "print(mat_B_invert)\n",
    "# An 'inversion' was generated, but it is not easy to see what it might 'mean'!"
   ]
  },
  {
   "cell_type": "code",
   "execution_count": null,
   "metadata": {
    "button": false,
    "new_sheet": false,
    "run_control": {
     "read_only": false
    },
    "scrolled": true
   },
   "outputs": [],
   "source": [
    "# Let's confirm that these are indeed the inverse of the other.\n",
    "# We can use the `@` operator to carry out matrix multiplication.\n",
    "\n",
    "print(mat_B @ mat_B_invert)\n",
    "\n",
    "# Due to rounding errors this may not quite be the 'perfect' Identity we were looking for - i.e. \n",
    "#\n",
    "#    [[1, 0]\n",
    "#      0, 1]]\n",
    "#\n",
    "# But it's close enough!\n"
   ]
  },
  {
   "cell_type": "markdown",
   "metadata": {
    "button": false,
    "new_sheet": false,
    "run_control": {
     "read_only": false
    }
   },
   "source": [
    "## Exercise 6c1\n",
    "\n",
    "The `transpose` opeartion/method can also be applied to non-square matrices.  \n",
    " - Generate a non-square matrix and see what its transpose looks like.\n",
    "\n",
    "As we saw some matrices cannot be inverted. In fact if we find the **determinant** of a matrix then this let's us know whether inversion can be attempted or not. If the `det` of a matrix is zero then it CANNOT be inverted.\n",
    "\n",
    " - Check the determinant values for the two matrices that we were working with above (**A** and **B**)\n"
   ]
  },
  {
   "cell_type": "markdown",
   "metadata": {
    "button": false,
    "new_sheet": false,
    "run_control": {
     "read_only": false
    }
   },
   "source": [
    "## Diagonals and the 'Trace' of a matrix\n",
    "\n",
    "We are often interested in the 'main diagonal' of a matrix; irrespective of the dimensions of the matrix this will always be a vector.\n"
   ]
  },
  {
   "cell_type": "code",
   "execution_count": null,
   "metadata": {
    "button": false,
    "new_sheet": false,
    "run_control": {
     "read_only": false
    },
    "scrolled": true
   },
   "outputs": [],
   "source": [
    "# Let's remind ourselves of the contents of mat_A and then get its diagonal\n",
    "\n",
    "print(\"Here is a matrix:\")\n",
    "print(mat_A)\n",
    "\n",
    "diag_A = mat_A.diagonal()\n",
    "\n",
    "print(\"--------------------------------------------------\")\n",
    "print(\"And these are the members of its leading diagonal:\")\n",
    "print(diag_A)\n"
   ]
  },
  {
   "cell_type": "markdown",
   "metadata": {
    "button": false,
    "new_sheet": false,
    "run_control": {
     "read_only": false
    }
   },
   "source": [
    "While Python will not generate an error if you apply the `diagonal` method to a non-square matrix, you may have to be careful about how you interpret these 'diagonal' values...\n",
    "\n",
    "You can also use an `offset` parameter to return values at some distance away from the 'main diagonal'...\n"
   ]
  },
  {
   "cell_type": "code",
   "execution_count": null,
   "metadata": {
    "button": false,
    "new_sheet": false,
    "run_control": {
     "read_only": false
    },
    "scrolled": true
   },
   "outputs": [],
   "source": [
    "print(\"These values lie along the diagonal one 'below' the leading diagonal:\")\n",
    "print(mat_A.diagonal(offset=-1))\n",
    "\n",
    "print(\"--------------------------------------------------\")\n",
    "print(\"While these are the values lying in the diagonal one 'above' the leading diagonal:\")\n",
    "print(mat_A.diagonal(offset=1))\n"
   ]
  },
  {
   "cell_type": "markdown",
   "metadata": {
    "button": false,
    "new_sheet": false,
    "run_control": {
     "read_only": false
    }
   },
   "source": [
    "\n",
    "**NB** There is also something referred to as a *'diagonal matrix'* which is (most often) a square matrix that has values on it main diagonal and zeros everywhere else. The **_identity matix_** is a special case of a *diagonal matrix* where all of these non-zero entries are equal to 1.\n"
   ]
  },
  {
   "cell_type": "markdown",
   "metadata": {
    "button": false,
    "new_sheet": false,
    "run_control": {
     "read_only": false
    }
   },
   "source": [
    "### The 'Trace' of a matrix\n",
    "\n",
    "This is simply the sum of the values that lie along the leading diagonal...\n"
   ]
  },
  {
   "cell_type": "code",
   "execution_count": null,
   "metadata": {
    "button": false,
    "new_sheet": false,
    "run_control": {
     "read_only": false
    },
    "scrolled": true
   },
   "outputs": [],
   "source": [
    "print(\"The 'trace' of matrix mat_A is:\")\n",
    "print(mat_A.trace())"
   ]
  },
  {
   "cell_type": "markdown",
   "metadata": {
    "button": false,
    "new_sheet": false,
    "run_control": {
     "read_only": false
    }
   },
   "source": [
    "You could of course use the `sum` and `diagonal` array operations to find this value pretty easily...\n"
   ]
  },
  {
   "cell_type": "code",
   "execution_count": null,
   "metadata": {
    "button": false,
    "new_sheet": false,
    "run_control": {
     "read_only": false
    },
    "scrolled": true
   },
   "outputs": [],
   "source": [
    "trace2 = np.sum(mat_A.diagonal())\n",
    "print(\"Working out the 'trace' using basic operators, the value we get is (surprise surprise!):\")\n",
    "print(trace2)"
   ]
  },
  {
   "cell_type": "markdown",
   "metadata": {
    "button": false,
    "new_sheet": false,
    "run_control": {
     "read_only": false
    }
   },
   "source": [
    "## Exercise 6c2  (SUBMIT)\n",
    "\n",
    "You may remember that a common way to assess the performance of a classification algorithm is to report its **accuracy** which is often taken to be the entries on the leading diagonal of a 'mis-classification matrix' (i.e. all of the cases that it got correct) as a proportion of the total number of cases.\n",
    "\n",
    " - write a function called `my_accuracy` that takes a square matrix and returns an accuracy score as a percentage value\n",
    "\n",
    "Once written you can try it out on the following cases:\n",
    "\n",
    " - A 2x2 mis-classification table that you might get from a clincal diagnostic test:\n",
    "<br>\n",
    "<br>&nbsp;&nbsp;&nbsp;&nbsp;&nbsp;&nbsp;&nbsp;&nbsp;&nbsp;&nbsp;&nbsp;&nbsp;&nbsp;&nbsp;  +ve Cases &nbsp;&nbsp;   -ve Cases\n",
    "<br>+ve Tests &nbsp;&nbsp;&nbsp; 71 &nbsp;&nbsp;&nbsp;&nbsp;&nbsp;&nbsp;&nbsp;&nbsp;&nbsp;&nbsp;&nbsp;&nbsp; 3\n",
    "<br>-ve Tests &nbsp;&nbsp;&nbsp;&nbsp; 7 &nbsp;&nbsp;&nbsp;&nbsp;&nbsp;&nbsp;&nbsp;&nbsp;&nbsp;&nbsp;&nbsp;&nbsp; 23\n",
    "\n",
    "> I get a value of accuracy of just over 90% \n",
    "\n",
    " - Now you have a multi-class problem with 5 possible outcome classes (a bit like the various animal diseases in *VetAfrica*. A more complex mis-classification matrix is shown below, but once again your function should easily be able to estimate the accuracy score.\n",
    "\n",
    "&nbsp;(35,  2,  1,  0,  3,\n",
    "<br> &nbsp;&nbsp; 4, 24,  2,  1,  5,\n",
    "<br> &nbsp;&nbsp; 3,  0, 51,  2,  7,\n",
    "<br> &nbsp;&nbsp; 0,  1,  6, 33, 12,\n",
    "<br> &nbsp;&nbsp; 1,  3,  1,  4,  45)\n",
    "\n",
    "> I get a value of accuracy of just over 76% \n"
   ]
  },
  {
   "cell_type": "markdown",
   "metadata": {},
   "source": [
    "## The Rank of a matrix\n",
    "\n",
    "The result of this calculation is the number of linearly independent rows/columns in a matrix.\n",
    "\n",
    "The maximum number of linearly independent rows in **A** is called the 'row rank' while the maximum number of linearly independent columns is called the 'column rank'. In an m-by-n matrix, it is obvious that the row_rank must be <= `m` while the column_rank <= `n`. However, there is no real reason to make a distinction between rows and columns when thinking about a matrix (as we could transpose and look for linear indepence in the 'alternate' direction. Therefore it is normal to talk only of the overall **rank** of a matrix, and for the case where **A** is an m-by-n matrix: \n",
    "\n",
    "> rank(**A**) <= min(m, n)\n",
    "\n",
    "We can use the NumPy function `rank` to find this value...\n"
   ]
  },
  {
   "cell_type": "code",
   "execution_count": null,
   "metadata": {
    "button": false,
    "new_sheet": false,
    "run_control": {
     "read_only": false
    },
    "scrolled": true
   },
   "outputs": [],
   "source": [
    "mat_Z = np.array([[1, -2, 0, 4],\n",
    "                  [3,  1, 1, 0],\n",
    "                  [-1,-5,-1, 8],\n",
    "                  [ 3, 8, 2, -12]])\n",
    "\n",
    "print(\"The matrix shown below:\")\n",
    "print(mat_Z)\n",
    "print(\"has an overall rank of: {0:}\".format(LA.matrix_rank(mat_Z)))\n"
   ]
  },
  {
   "cell_type": "markdown",
   "metadata": {},
   "source": [
    "### Short explanation of *Rank*\n",
    "\n",
    "In the example above, think of the four rows as four sets of linear equations.\n",
    "<br> e.g. &nbsp;&nbsp; r1 = a -2b + 4d\n",
    "<br>&nbsp;&nbsp;&nbsp;&nbsp;&nbsp;&nbsp;&nbsp;&nbsp;&nbsp; r2 = 3a +b + c\n",
    "\n",
    "For each of these rows to be linearly independent they should **not** be able to be expressed in terms of any of the others (and the same holds for the columns).\n",
    "\n",
    "However, hopefully you can see that in this particular example:\n",
    " - r3 = 2*r1 - r2\n",
    "<br>and also that\n",
    " - r4 = -3*r1 + 2*r2\n",
    " \n",
    "Neither r3 nor r4 are independent of r1/r2 (i.e. they can be expressed as linear combinations of them) and as such the maximum number of independent rows (i.e. the **rank**) in this example is 2 (just r1 and r2).\n"
   ]
  },
  {
   "cell_type": "markdown",
   "metadata": {
    "button": false,
    "new_sheet": false,
    "run_control": {
     "read_only": false
    }
   },
   "source": [
    "## Exercise 6c3\n",
    "\n",
    "Consider the two matrices shown below and find their `rank`...  see whether this makes sense for:\n",
    " - an non-square 4x3 matrix (**V**)\n",
    " - the 3x3 'checker-board' matrix (**W**)\n",
    " - try a much larger 'checker-board', say 6x6\n"
   ]
  },
  {
   "cell_type": "code",
   "execution_count": null,
   "metadata": {
    "button": false,
    "new_sheet": false,
    "run_control": {
     "read_only": false
    },
    "scrolled": true
   },
   "outputs": [],
   "source": [
    "V = np.array([[2,-1, 5],\n",
    "              [1, 0, 1],\n",
    "              [0, 2,-1],\n",
    "              [1, 1, 4]])\n",
    "\n",
    "W = np.array([[ 1,-1, 1],\n",
    "              [-1, 1,-1],\n",
    "              [ 1,-1, 1]])\n"
   ]
  }
 ],
 "metadata": {
  "kernelspec": {
   "display_name": "Python 3",
   "language": "python",
   "name": "python3"
  },
  "language_info": {
   "codemirror_mode": {
    "name": "ipython",
    "version": 3
   },
   "file_extension": ".py",
   "mimetype": "text/x-python",
   "name": "python",
   "nbconvert_exporter": "python",
   "pygments_lexer": "ipython3",
   "version": "3.7.4"
  }
 },
 "nbformat": 4,
 "nbformat_minor": 1
}
