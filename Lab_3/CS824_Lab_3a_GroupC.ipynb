{
 "cells": [
  {
   "cell_type": "markdown",
   "metadata": {},
   "source": [
    "<div style=\"text-align: right\"> CS824 - Lab 3a (2022) </div>\n",
    "\n",
    "# Practical Introduction to Probability\n",
    "\n",
    "Before we get into the coding, a quick reminder of some terminology:\n",
    "\n",
    "**Experiment**: an occurance haivng an uncertain outcome that we can observe.\n",
    "<br>e.g. *Rolling a 6-sided die*\n",
    "\n",
    "**Sample space**: the set of all possible outcomes.\n",
    "<br>e.g. `{1,2,3,4,5,6}`\n",
    "\n",
    "**Outcome**: the result of an experiment (sometimes called an *atomic event*).\n",
    "<br>e.g. `{5}`\n",
    "\n",
    "**Event**: a subset of possible outcomes (one or more atomic events) that together are what we are interested in.\n",
    "<br>e.g. `{2, 4, 6}`\n",
    "\n",
    "**Probability value (or distribution)**: a mapping of every possible event to a number (or density function) in the range [0 - 1] that represents how likely this particular event is.\n",
    "<br>e.g. `E` = {1, 3, 5}\n",
    "<br>**P**(`E`) = 0.50\n",
    "\n",
    "\n",
    "<br>\n",
    "This lab draws heavily on a great tutorial created by **Peter Norvig** from 2016, in it he states that the key motivation was based on the simple statement of Pierre-Simon Laplace made in 1814 (so researchers have been thinking hard about probability for over two centuries!):\n",
    "> Probability ... is thus simply a fraction whose numerator is the number of favorable cases and whose denominator is the number of all the cases possible ... when nothing leads us to expect that any one of these cases should occur more than any other.\n",
    "\n",
    "However, any errors that may have been introduced by short-cuts and/or alterations, are entirely my fault...\n"
   ]
  },
  {
   "cell_type": "markdown",
   "metadata": {
    "button": false,
    "new_sheet": false,
    "run_control": {
     "read_only": false
    }
   },
   "source": [
    "## Code for `unif_P` \n",
    "\n",
    "We normally use `P` to refer to the probability function. We can construct a function (`unif_P`) that is a bit more limited and is based on the *discrete uniform probabilty law* - i.e. using Laplace's idea of two sets of countable elements (what he referred to as \"cases\").\n"
   ]
  },
  {
   "cell_type": "code",
   "execution_count": 2,
   "metadata": {
    "button": false,
    "new_sheet": false,
    "run_control": {
     "read_only": false
    }
   },
   "outputs": [],
   "source": [
    "def unif_P(event, sample_space): \n",
    "    \"\"\"Returns the probability of an event, given a [sample_space] of outcomes that are all equally likely. \n",
    "    The function assumes that it is being passed two {set} objects, for which there are a range of Python \n",
    "    operators to allow for simple manipulation of the elements in each set.\"\"\"\n",
    "    \n",
    "    prob_real = len(event) / len(sample_space)\n",
    "    return prob_real"
   ]
  },
  {
   "cell_type": "markdown",
   "metadata": {
    "button": false,
    "new_sheet": false,
    "run_control": {
     "read_only": false
    }
   },
   "source": [
    "\n",
    "## Let's see how this might work for the case of rolling a die\n",
    "\n",
    "Let's assume we have a fair six-sided die...  what is the probability of rolling an even number?  \n",
    "\n",
    "We can define the sample space `six_sided_die` and an event `even`. We can then use our function to compute the probability..."
   ]
  },
  {
   "cell_type": "code",
   "execution_count": 3,
   "metadata": {
    "button": false,
    "new_sheet": false,
    "run_control": {
     "read_only": false
    }
   },
   "outputs": [
    {
     "data": {
      "text/plain": [
       "0.5"
      ]
     },
     "execution_count": 3,
     "metadata": {},
     "output_type": "execute_result"
    }
   ],
   "source": [
    "six_sided_die = {1, 2, 3, 4, 5, 6}\n",
    "even = {2, 4, 6}\n",
    "\n",
    "unif_P(even, six_sided_die)"
   ]
  },
  {
   "cell_type": "markdown",
   "metadata": {
    "button": false,
    "new_sheet": false,
    "run_control": {
     "read_only": false
    }
   },
   "source": [
    "OK - that seemed to work, but we could have done that calculation in our heads! Did we really need Python?!  Well let's be patient as we will soon get to some sets/calculations that are not so trivial. \n",
    "\n",
    "Also, will this function always give us the correct answer? It should if our inputs are 'well behaved', but what will happen if we do something like what is shown in the next cell?"
   ]
  },
  {
   "cell_type": "code",
   "execution_count": 4,
   "metadata": {
    "button": false,
    "new_sheet": false,
    "run_control": {
     "read_only": false
    }
   },
   "outputs": [
    {
     "data": {
      "text/plain": [
       "1.0"
      ]
     },
     "execution_count": 4,
     "metadata": {},
     "output_type": "execute_result"
    }
   ],
   "source": [
    "even2 = {2, 4, 6, 8, 10, 12}\n",
    "\n",
    "unif_P(even2, six_sided_die)"
   ]
  },
  {
   "cell_type": "markdown",
   "metadata": {
    "button": false,
    "new_sheet": false,
    "run_control": {
     "read_only": false
    }
   },
   "source": [
    "The members of the set `even2` are indeed all even numbers but half of them do not belong in our current sample space, perhaps this variable was intended to be used in a situation where two dice were being thrown...  We can modify our function by applying the `&` operator to elements on the numerator, thus ensuring that **_only_** those members of `event` which actually belong in the `sample_space` are included.\n",
    "\n",
    "The modified function can be seen below..."
   ]
  },
  {
   "cell_type": "code",
   "execution_count": 5,
   "metadata": {
    "button": false,
    "new_sheet": false,
    "run_control": {
     "read_only": false
    }
   },
   "outputs": [],
   "source": [
    "def unif_P(event, sample_space): \n",
    "    \"\"\"Returns the probability of an event, given a sample space of outcomes that are all equally likely. Uses set objects\n",
    "    in Python where it is simple to manipulate the elements in each set.\"\"\"\n",
    "    \n",
    "    prob_real = len(event & sample_space) / len(sample_space)\n",
    "    return prob_real"
   ]
  },
  {
   "cell_type": "code",
   "execution_count": 6,
   "metadata": {
    "button": false,
    "new_sheet": false,
    "run_control": {
     "read_only": false
    }
   },
   "outputs": [
    {
     "data": {
      "text/plain": [
       "0.5"
      ]
     },
     "execution_count": 6,
     "metadata": {},
     "output_type": "execute_result"
    }
   ],
   "source": [
    "even2 = {2, 4, 6, 8, 10, 12}\n",
    "\n",
    "unif_P(even2, six_sided_die)"
   ]
  },
  {
   "cell_type": "markdown",
   "metadata": {
    "button": false,
    "new_sheet": false,
    "run_control": {
     "read_only": false
    }
   },
   "source": [
    "That seemed to work.  It could be seen as a little bit of a 'fudge' as we probably should not allow elements that are not in the sample space to be passed to the function at all, but this works and is a bit simpler than putting in lots of exception clauses and returning error values, etc.\n",
    "\n",
    "One other thing that may be a problem is that we are returning real values, which can look a bit 'ugly', but more importantly can also introduce rounding errors (as you can see below)...\n"
   ]
  },
  {
   "cell_type": "code",
   "execution_count": 7,
   "metadata": {
    "button": false,
    "new_sheet": false,
    "run_control": {
     "read_only": false
    }
   },
   "outputs": [
    {
     "data": {
      "text/plain": [
       "0.3333333333333333"
      ]
     },
     "execution_count": 7,
     "metadata": {},
     "output_type": "execute_result"
    }
   ],
   "source": [
    "four_or_five = {4, 5}\n",
    "\n",
    "unif_P(four_or_five, six_sided_die)"
   ]
  },
  {
   "cell_type": "markdown",
   "metadata": {
    "button": false,
    "new_sheet": false,
    "run_control": {
     "read_only": false
    }
   },
   "source": [
    "So in the final version (for now) of our `unif_P` function, we will use the `Fraction` function to return exact values...  but we will also provide a five decimal place version of the equivalent real number after this as that can be a useful quick estimate for those of us not so good at doing fractions in our head.\n"
   ]
  },
  {
   "cell_type": "code",
   "execution_count": 8,
   "metadata": {
    "button": false,
    "new_sheet": false,
    "run_control": {
     "read_only": false
    }
   },
   "outputs": [],
   "source": [
    "from fractions import Fraction\n",
    "\n",
    "def unif_P(event, sample_space): \n",
    "    \"\"\"Returns the probability of an event, given a sample space of outcomes that are all equally likely. Uses set objects\n",
    "    in Python where it is simple to manipulate the elements in each set.\"\"\"\n",
    "    \n",
    "    prob_fraction = Fraction(len(event & sample_space), len(sample_space))\n",
    "    # I realise that these next 3 lines could be done as a single line, but many are just starting out in Python...\n",
    "    # Indeed we don't really 'need' any of the variables here and could have directly specified the return\n",
    "    # line with all of the calculations - but I'm not sure that would be as informative from a 'learning' perspective.\n",
    "    prob_real = len(event & sample_space) / len(sample_space)\n",
    "    prob_real_txt1 = str(prob_real)\n",
    "    prob_real_txt = \"=\" + '{:.7}'.format(prob_real_txt1)\n",
    "    return prob_fraction, prob_real_txt"
   ]
  },
  {
   "cell_type": "code",
   "execution_count": 9,
   "metadata": {
    "button": false,
    "new_sheet": false,
    "run_control": {
     "read_only": false
    }
   },
   "outputs": [
    {
     "data": {
      "text/plain": [
       "(Fraction(1, 3), '=0.33333')"
      ]
     },
     "execution_count": 9,
     "metadata": {},
     "output_type": "execute_result"
    }
   ],
   "source": [
    "four_or_five = {4, 5}\n",
    "\n",
    "unif_P(four_or_five, six_sided_die)"
   ]
  },
  {
   "cell_type": "markdown",
   "metadata": {
    "button": false,
    "new_sheet": false,
    "run_control": {
     "read_only": false
    }
   },
   "source": [
    "\n",
    "\n",
    "# Now let's look inside an 'urn'\n",
    "\n",
    "Working a century before Laplace (early 1700s), Jacob Bernoulli was also writing about probability and one of his favourite ways to illustrate things was to discuss the idea of taking coloured balls from an urn. These feature in his famous thesis *[Ars Conjectandi](https://en.wikipedia.org/wiki/Ars_Conjectandi)*, and ever since that time it has been common to find explanations of probability that refer to the **urn problem**. (Those who watched the MrNystrom video will have seen his 'poker chips in bag' variant of this!)\n",
    "\n",
    "\n",
    "Here is an example of the type of problem that we might typically be asked to explore:\n",
    "\n",
    "> An urn contains 23 balls: 8 white, 6 blue, and 9 red. We will now select **six** balls at random where each ball is equally likely to be selected. What is the probability of various possible outcomes? e.g.:\n",
    "> - all balls are white\n",
    "> - exactly 4 balls are red\n",
    "> - 3 are blue, 2 are red, and 1 is white\n",
    "> - etc.\n",
    "\n",
    "So, each **outcome** involves a set of 6 balls, and the **sample space** is the set of all possible 6 ball combinations. Let's see whether we can solve problems of this type using our `unif_P` function, and some basic arithmetic - using the *counting* ideas we noted in the lecture (permutation, combinations, etc.). However, when thinking about *counting* here we need to remember that:\n",
    "1. we have multiple balls of the same color. \n",
    "2. each outcome is a *set* of balls, but the order in which they were selected doesn't matter. (i.e. This is not the same as a *sequence*, where order matters...  Remember the difference between a combination and a permutation. In actual fact a \"combination lock\" should be called a \"permutation lock\" - as order matters!! Similarly, \"give me the combination to your safe\", might not open it!)\n",
    "\n",
    "To account for the first issue, we should label each ball uniquely - e.g. the 8 different white balls will be labelled `'W1'` through `'W8'`, in contrast to just having eight balls all labelled `'W'`.\n",
    "\n",
    "Due to the way in which sets operate in Python (and therefore within our `unif_P` function), the second issue is handled automatically. However, if we were to carry out calculations by hand, we would sometimes have to first count the number of *permutations* of balls, then get the number of *combinations* by dividing the number of permutations by *c*!, where *c* is the number of balls in a combination. \n",
    "\n",
    "For example, if we wanted to choose 2 white balls from the 8 available, there are 8 ways to choose a first white ball and 7 ways to choose a second, and therefore 8 * 7 = 56 permutations of two white balls. But there are only 56 / 2 = 28 combinations, because in the case where sequence is not important `(W1, W2)` is the same combination as `(W2, W1)`. However, due to the way that {sets} operate in our function (countability within Python) this issue is already handled.\n"
   ]
  },
  {
   "cell_type": "markdown",
   "metadata": {},
   "source": [
    "We can use some of the nice string concatenation and set features of Python to allow us to generate a set made up of elements whose labels come from one of two lists from each of which we will take a single character.\n"
   ]
  },
  {
   "cell_type": "code",
   "execution_count": 10,
   "metadata": {
    "button": false,
    "new_sheet": false,
    "run_control": {
     "read_only": false
    }
   },
   "outputs": [],
   "source": [
    "def char_cross(A, B):\n",
    "    \"\"\"Generate a set that contains all ways of concatenating a single character from the collection A with one \n",
    "    from a second collection B.\"\"\"\n",
    "    return {a + b \n",
    "        for a in A for b in B}"
   ]
  },
  {
   "cell_type": "code",
   "execution_count": 11,
   "metadata": {
    "button": false,
    "new_sheet": false,
    "run_control": {
     "read_only": false
    }
   },
   "outputs": [
    {
     "data": {
      "text/plain": [
       "{'W1', 'W2', 'W3', 'W4', 'W5', 'W6', 'W7', 'W8'}"
      ]
     },
     "execution_count": 11,
     "metadata": {},
     "output_type": "execute_result"
    }
   ],
   "source": [
    "urn_white = char_cross('W', '12345678')\n",
    "\n",
    "urn_white"
   ]
  },
  {
   "cell_type": "markdown",
   "metadata": {},
   "source": [
    "So, now we have a set with the white balls but before completing the contents of our urn make sure that you understand the way in which this function works.\n"
   ]
  },
  {
   "cell_type": "markdown",
   "metadata": {},
   "source": [
    "## Exerise 1  (SUBMIT)\n",
    "Use the function we have just created (`char_cross`) to generate a set that describes the cards in a normal deck of [playing cards](https://en.wikipedia.org/wiki/Playing_card_suit). (i.e. 4 four suits with cards running from Ace to King in each suit.)\n"
   ]
  },
  {
   "cell_type": "markdown",
   "metadata": {},
   "source": [
    "\n",
    "Assuming that you used a variable named `deck` to capture the output of your function, then entering the Python statements below should result in \"52\" (for the number of cards in your deck) and then a list of all of these 52 cards...\n"
   ]
  },
  {
   "cell_type": "code",
   "execution_count": 12,
   "metadata": {
    "button": false,
    "new_sheet": false,
    "run_control": {
     "read_only": false
    }
   },
   "outputs": [],
   "source": [
    "deck = char_cross([str(a) for a in range(1,14)],'♣♦♥♠')"
   ]
  },
  {
   "cell_type": "code",
   "execution_count": 13,
   "metadata": {
    "button": false,
    "new_sheet": false,
    "run_control": {
     "read_only": false
    }
   },
   "outputs": [
    {
     "data": {
      "text/plain": [
       "52"
      ]
     },
     "execution_count": 13,
     "metadata": {},
     "output_type": "execute_result"
    }
   ],
   "source": [
    "len(deck)"
   ]
  },
  {
   "cell_type": "code",
   "execution_count": 14,
   "metadata": {
    "button": false,
    "new_sheet": false,
    "run_control": {
     "read_only": false
    }
   },
   "outputs": [
    {
     "name": "stdout",
     "output_type": "stream",
     "text": [
      "{'2♥', '3♣', '12♦', '13♦', '9♥', '3♥', '2♠', '10♣', '3♦', '9♠', '1♥', '6♣', '11♣', '11♠', '5♦', '8♥', '12♣', '13♥', '9♦', '6♦', '2♦', '3♠', '4♥', '5♣', '8♦', '4♦', '11♦', '10♦', '11♥', '7♦', '5♥', '1♣', '4♠', '10♠', '5♠', '7♥', '7♠', '6♥', '2♣', '8♠', '13♣', '1♠', '7♣', '12♥', '13♠', '9♣', '1♦', '12♠', '6♠', '10♥', '4♣', '8♣'}\n"
     ]
    }
   ],
   "source": [
    "print(deck)"
   ]
  },
  {
   "cell_type": "markdown",
   "metadata": {},
   "source": [
    "You should be aware that {sets} are inherently un-ordered in Python, so the order in which the output appears can sometimes be confusing!\n",
    "\n",
    "For the case of our urn, we can't quite get away with the same approach because the number of balls of each colour is different, so instead we can do the following... (i.e. Generate three sets and `combine` them to describe our urn that contains 8 white, 6 blue, and 9 red balls). \n"
   ]
  },
  {
   "cell_type": "code",
   "execution_count": 15,
   "metadata": {
    "button": false,
    "new_sheet": false,
    "run_control": {
     "read_only": false
    }
   },
   "outputs": [
    {
     "data": {
      "text/plain": [
       "23"
      ]
     },
     "execution_count": 15,
     "metadata": {},
     "output_type": "execute_result"
    }
   ],
   "source": [
    "urn = char_cross('W', '12345678') | char_cross('B', '654321') | char_cross('R', '123456789') \n",
    "\n",
    "len(urn)"
   ]
  },
  {
   "cell_type": "markdown",
   "metadata": {},
   "source": [
    "This appears to have generated the 23 elements of our urn, we can also check the actual contents..."
   ]
  },
  {
   "cell_type": "code",
   "execution_count": 16,
   "metadata": {
    "button": false,
    "new_sheet": false,
    "run_control": {
     "read_only": false
    }
   },
   "outputs": [
    {
     "data": {
      "text/plain": [
       "{'B1',\n",
       " 'B2',\n",
       " 'B3',\n",
       " 'B4',\n",
       " 'B5',\n",
       " 'B6',\n",
       " 'R1',\n",
       " 'R2',\n",
       " 'R3',\n",
       " 'R4',\n",
       " 'R5',\n",
       " 'R6',\n",
       " 'R7',\n",
       " 'R8',\n",
       " 'R9',\n",
       " 'W1',\n",
       " 'W2',\n",
       " 'W3',\n",
       " 'W4',\n",
       " 'W5',\n",
       " 'W6',\n",
       " 'W7',\n",
       " 'W8'}"
      ]
     },
     "execution_count": 16,
     "metadata": {},
     "output_type": "execute_result"
    }
   ],
   "source": [
    "urn"
   ]
  },
  {
   "cell_type": "markdown",
   "metadata": {},
   "source": [
    "Notice that in this case the set has been re-ordered by Python into alpha-numneric order... I specified the order of the blue balls in 'reverse' order simply to illustrate this. I am not entirely sure when sets are re-ordered for display in this way - the were not for the 52 card deck example above...  but in general you should assume that sets are **unordered** for the purposes of making reference to them.\n"
   ]
  },
  {
   "cell_type": "markdown",
   "metadata": {
    "button": false,
    "new_sheet": false,
    "run_control": {
     "read_only": false
    }
   },
   "source": [
    "OK, so now that we have described the contents of our urn, we are in a position to define the sample space of interest in this problem. Note that we were asked to randomly select six balls from the urn, so lets define `U6` to be the set of all possible 6-ball combinations.\n",
    "\n",
    "As you might imagine there are some handy tools for carrying out 'counting' operations on sets on Python and we are going to use the `itertools` library to help us here. You can read more about the 'combinations' iterator and others at the Python documentation site under [Cominatoric generators](https://docs.python.org/3.7/library/itertools.html). \n"
   ]
  },
  {
   "cell_type": "code",
   "execution_count": 17,
   "metadata": {
    "button": false,
    "new_sheet": false,
    "run_control": {
     "read_only": false
    }
   },
   "outputs": [],
   "source": [
    "import itertools\n",
    "\n",
    "def combos(items, n):\n",
    "    \"All combinations of n items; with each set member/combination being returned as a concatenated string.\"\n",
    "    return {' '.join(combo) \n",
    "            for combo in itertools.combinations(items, n)}\n"
   ]
  },
  {
   "cell_type": "markdown",
   "metadata": {
    "button": false,
    "new_sheet": false,
    "run_control": {
     "read_only": false
    }
   },
   "source": [
    "We have used `itertools.combinations` to generate all specified combinations and then join each string combination into an output set.\n",
    "\n",
    "If we call this function with n=6 (i.e. the various 6-ball members from the sample space of our urn), how large is this space?"
   ]
  },
  {
   "cell_type": "code",
   "execution_count": 18,
   "metadata": {
    "button": false,
    "new_sheet": false,
    "run_control": {
     "read_only": false
    }
   },
   "outputs": [],
   "source": [
    "U6 = combos(urn, 6)"
   ]
  },
  {
   "cell_type": "code",
   "execution_count": 19,
   "metadata": {
    "button": false,
    "new_sheet": false,
    "run_control": {
     "read_only": false
    }
   },
   "outputs": [
    {
     "data": {
      "text/plain": [
       "100947"
      ]
     },
     "execution_count": 19,
     "metadata": {},
     "output_type": "execute_result"
    }
   ],
   "source": [
    "len(U6)"
   ]
  },
  {
   "cell_type": "markdown",
   "metadata": {
    "button": false,
    "new_sheet": false,
    "run_control": {
     "read_only": false
    }
   },
   "source": [
    "So while 'counting' has always been an option (theoretically) you can see why actually enumerating events was not a very pragmatic approach before the advent of computers!!  Even now (with computers) we can't really 'look' at the output - at least not all 100,947 elements in the set...\n",
    "\n",
    "We could look at the first dozen..."
   ]
  },
  {
   "cell_type": "code",
   "execution_count": 20,
   "metadata": {
    "button": false,
    "new_sheet": false,
    "run_control": {
     "read_only": false
    }
   },
   "outputs": [
    {
     "name": "stdout",
     "output_type": "stream",
     "text": [
      "(0, 'B5 R1 R5 R6 R7 W2')\n",
      "(1, 'B4 B6 R1 R8 W5 W2')\n",
      "(2, 'W4 R2 R6 W5 W1 R9')\n",
      "(3, 'B6 R5 R6 R7 W2 R9')\n",
      "(4, 'B4 R3 R1 R5 W1 W2')\n",
      "(5, 'W4 R4 B2 W7 W2 R9')\n",
      "(6, 'B4 B6 R3 B2 R6 W5')\n",
      "(7, 'B4 W4 R3 R5 R2 R7')\n",
      "(8, 'W3 R3 B2 R6 R7 W5')\n",
      "(9, 'W3 B6 B3 R8 W5 W1')\n",
      "(10, 'W6 B4 R1 R5 R2 W5')\n",
      "(11, 'W6 B6 R5 B2 B1 R9')\n"
     ]
    }
   ],
   "source": [
    "for value in enumerate(itertools.islice(U6, 12)):\n",
    "    print(value)"
   ]
  },
  {
   "cell_type": "markdown",
   "metadata": {
    "button": false,
    "new_sheet": false,
    "run_control": {
     "read_only": false
    }
   },
   "source": [
    "I have to confess that I'm not clear about the ordering rules for this set - but I guess that I shouldn't really care - perhaps a better approach would have been to just select a **random sample** of them to see what they look like...  (**NB** - you will almost certainly get a *different* set to those shown below, hopefully for obvious reasons!)"
   ]
  },
  {
   "cell_type": "code",
   "execution_count": 21,
   "metadata": {
    "button": false,
    "new_sheet": false,
    "run_control": {
     "read_only": false
    }
   },
   "outputs": [
    {
     "data": {
      "text/plain": [
       "['B4 B5 R3 R5 R2 W7',\n",
       " 'W3 B5 B3 R8 R6 R7',\n",
       " 'W4 B6 R2 W5 W7 R9',\n",
       " 'R4 B2 B1 R6 R7 W1',\n",
       " 'W3 B4 R3 R2 W7 R9',\n",
       " 'B5 W4 R1 R4 W8 R9',\n",
       " 'W3 R5 R7 W5 W1 R9',\n",
       " 'W6 R3 R4 W1 W2 R9',\n",
       " 'W6 R1 R4 B1 R7 W8',\n",
       " 'W6 R3 B1 R6 W8 R9',\n",
       " 'W6 B6 B3 R5 B2 W7',\n",
       " 'B4 B6 R6 R7 W5 R9']"
      ]
     },
     "execution_count": 21,
     "metadata": {},
     "output_type": "execute_result"
    }
   ],
   "source": [
    "import random\n",
    "\n",
    "random.sample(U6, 12)"
   ]
  },
  {
   "cell_type": "markdown",
   "metadata": {
    "button": false,
    "new_sheet": false,
    "run_control": {
     "read_only": false
    }
   },
   "source": [
    "If we wanted to check that our combinations were correct (i.e. that there are in fact 100,947 elements) then we would use the formula that [mathematicians](https://en.wikipedia.org/wiki/Combination) call \"23 choose 6\". Once we have chosen the first item (from 23), we can then choose any of the 22 remaining items on our second choice, and so on down until we have just 18 options at our sixth choice. As we don't care about the order of the six items, we divide the product of these six choices by 6! (the number of permutations of 6 separate things) giving us:\n",
    "\n",
    "$$23 ~\\text{choose}~ 6 = \\frac{23 \\cdot 22 \\cdot 21 \\cdot 20 \\cdot 19 \\cdot 18}{6!} = 100,947$$\n",
    "\n",
    "If you can accept (or take a little time to work out) that $23 \\cdot 22 \\cdot 21 \\cdot 20 \\cdot 19 \\cdot 18 = 23! \\;/\\; 17!$, then we can generalise the specific formula noted above to take the form:\n",
    "\n",
    "$$n ~\\text{choose}~ c = \\frac{n!}{(n - c)! \\cdot c!}$$\n"
   ]
  },
  {
   "cell_type": "markdown",
   "metadata": {
    "button": false,
    "new_sheet": false,
    "run_control": {
     "read_only": false
    }
   },
   "source": [
    "We could then code up with formula in Python to see whether we did in fact have the correct number of elements in our `U6` sample space (of '23 choose 6')..."
   ]
  },
  {
   "cell_type": "code",
   "execution_count": 22,
   "metadata": {
    "button": false,
    "new_sheet": false,
    "run_control": {
     "read_only": false
    }
   },
   "outputs": [],
   "source": [
    "from math import factorial\n",
    "\n",
    "def choose(n, c):\n",
    "    \"Number of ways to choose c items from a list of n items.\"\n",
    "    return factorial(n) // (factorial(n - c) * factorial(c))"
   ]
  },
  {
   "cell_type": "code",
   "execution_count": 23,
   "metadata": {
    "button": false,
    "new_sheet": false,
    "run_control": {
     "read_only": false
    }
   },
   "outputs": [
    {
     "data": {
      "text/plain": [
       "100947"
      ]
     },
     "execution_count": 23,
     "metadata": {},
     "output_type": "execute_result"
    }
   ],
   "source": [
    "choose(23, 6)"
   ]
  },
  {
   "cell_type": "markdown",
   "metadata": {},
   "source": [
    "## Exerise 2  (SUBMIT)\n",
    "Before moving on to the actual problems that we had set out, have a look at what the sample space would look like if we were only going to select, say, 3 balls.\n",
    "\n",
    "- Generate the `U3` sample space\n",
    "- Take a look at some of the members of the resulting set\n",
    "- Check that the size of this space (len(U3)) agrees with the mathematicians' `choose` definition\n"
   ]
  },
  {
   "cell_type": "code",
   "execution_count": 24,
   "metadata": {},
   "outputs": [
    {
     "data": {
      "text/plain": [
       "1771"
      ]
     },
     "execution_count": 24,
     "metadata": {},
     "output_type": "execute_result"
    }
   ],
   "source": [
    "U3 = combos(urn, 3)\n",
    "len(U3)"
   ]
  },
  {
   "cell_type": "code",
   "execution_count": 25,
   "metadata": {},
   "outputs": [
    {
     "data": {
      "text/plain": [
       "['R5 R2 W1',\n",
       " 'B6 R5 B2',\n",
       " 'R1 W5 W7',\n",
       " 'B2 B1 W1',\n",
       " 'R3 B2 R6',\n",
       " 'B6 R4 R9',\n",
       " 'W6 B4 W1',\n",
       " 'W3 R1 W8',\n",
       " 'R5 B1 W7',\n",
       " 'R7 W5 W2',\n",
       " 'R7 W1 R9',\n",
       " 'B6 R4 R6']"
      ]
     },
     "execution_count": 25,
     "metadata": {},
     "output_type": "execute_result"
    }
   ],
   "source": [
    "random.sample(U3, 12)"
   ]
  },
  {
   "cell_type": "code",
   "execution_count": 26,
   "metadata": {},
   "outputs": [
    {
     "data": {
      "text/plain": [
       "True"
      ]
     },
     "execution_count": 26,
     "metadata": {},
     "output_type": "execute_result"
    }
   ],
   "source": [
    "choose(23, 3) == len(U3)"
   ]
  },
  {
   "cell_type": "markdown",
   "metadata": {
    "button": false,
    "new_sheet": false,
    "run_control": {
     "read_only": false
    }
   },
   "source": [
    "OK, so - at last! - we are ready to take a stab at the problems that were outlined as examples of Bernoulli's questions... \n",
    "\n",
    "### Urn Problem 1: what is the probability of selecting 6 white balls? "
   ]
  },
  {
   "cell_type": "code",
   "execution_count": 27,
   "metadata": {
    "button": false,
    "new_sheet": false,
    "run_control": {
     "read_only": false
    }
   },
   "outputs": [
    {
     "data": {
      "text/plain": [
       "(Fraction(4, 14421), '=0.00027')"
      ]
     },
     "execution_count": 27,
     "metadata": {},
     "output_type": "execute_result"
    }
   ],
   "source": [
    "white6 = {s for s in U6 if s.count('W') == 6}\n",
    "\n",
    "unif_P(white6, U6)"
   ]
  },
  {
   "cell_type": "markdown",
   "metadata": {
    "button": false,
    "new_sheet": false,
    "run_control": {
     "read_only": false
    }
   },
   "source": [
    "Can we check this 'manually' to see whether it seems right? How many ways of getting 6 white balls are there?"
   ]
  },
  {
   "cell_type": "code",
   "execution_count": 28,
   "metadata": {
    "button": false,
    "new_sheet": false,
    "run_control": {
     "read_only": false
    }
   },
   "outputs": [
    {
     "data": {
      "text/plain": [
       "28"
      ]
     },
     "execution_count": 28,
     "metadata": {},
     "output_type": "execute_result"
    }
   ],
   "source": [
    "len(white6)"
   ]
  },
  {
   "cell_type": "markdown",
   "metadata": {
    "button": false,
    "new_sheet": false,
    "run_control": {
     "read_only": false
    }
   },
   "source": [
    "Would the mathematician's 'choose' support this 'counting' approach that tells us their are 28 elements?  Well there are 8 white balls in the urn, and we want to know how many ways we can choose 6 of these:"
   ]
  },
  {
   "cell_type": "code",
   "execution_count": 29,
   "metadata": {
    "button": false,
    "new_sheet": false,
    "run_control": {
     "read_only": false
    }
   },
   "outputs": [
    {
     "data": {
      "text/plain": [
       "28"
      ]
     },
     "execution_count": 29,
     "metadata": {},
     "output_type": "execute_result"
    }
   ],
   "source": [
    "choose(8, 6)"
   ]
  },
  {
   "cell_type": "markdown",
   "metadata": {
    "button": false,
    "new_sheet": false,
    "run_control": {
     "read_only": false
    }
   },
   "source": [
    "As such the probabilty of getting 6 white balls is just '8 choose 6' divided by the total size of the sample space."
   ]
  },
  {
   "cell_type": "code",
   "execution_count": 30,
   "metadata": {
    "button": false,
    "new_sheet": false,
    "run_control": {
     "read_only": false
    }
   },
   "outputs": [
    {
     "data": {
      "text/plain": [
       "Fraction(4, 14421)"
      ]
     },
     "execution_count": 30,
     "metadata": {},
     "output_type": "execute_result"
    }
   ],
   "source": [
    "alt_white6 = Fraction(choose(8, 6), len(U6))\n",
    "alt_white6"
   ]
  },
  {
   "cell_type": "markdown",
   "metadata": {
    "button": false,
    "new_sheet": false,
    "run_control": {
     "read_only": false
    }
   },
   "source": [
    "This is indeed the same probabilty as we got above. If we had not chosen to include the extra 'decimal' output in our function then we could have used an equality comparison directly to check that these values were the same."
   ]
  },
  {
   "cell_type": "markdown",
   "metadata": {},
   "source": [
    "## Exercise 3  (SUBMIT)\n",
    "Make some minor changes to `unif_P` so that you can cary out a direct logical comparison - such as that shown below.\n",
    "\n",
    "### Those less familiar with Python may find this a bit confusing, and also you will use the new `unif2_P` quite a bit below, so don't want to get stuck on what is a fairly 'trivial' Python function modification. \n"
   ]
  },
  {
   "cell_type": "code",
   "execution_count": 31,
   "metadata": {},
   "outputs": [],
   "source": [
    "\n",
    "def unif2_P(event, sample_space): \n",
    "    \"\"\"Returns the probability of an event, given a sample space of outcomes that are all equally likely. Uses set objects\n",
    "    in Python where it is simple to manipulate the elements in each set.\"\"\"\n",
    "    \n",
    "    prob_fraction = Fraction(len(event & sample_space), len(sample_space))\n",
    "    return prob_fraction"
   ]
  },
  {
   "cell_type": "code",
   "execution_count": 32,
   "metadata": {
    "button": false,
    "new_sheet": false,
    "run_control": {
     "read_only": false
    }
   },
   "outputs": [
    {
     "data": {
      "text/plain": [
       "True"
      ]
     },
     "execution_count": 32,
     "metadata": {},
     "output_type": "execute_result"
    }
   ],
   "source": [
    "unif2_P(white6, U6) == Fraction(choose(8, 6), len(U6))"
   ]
  },
  {
   "cell_type": "markdown",
   "metadata": {
    "button": false,
    "new_sheet": false,
    "run_control": {
     "read_only": false
    }
   },
   "source": [
    "### Urn Problem 2: What is the probability of exactly 4 red balls?\n",
    "\n",
    "This is equivalent to choosing 4 out of the 9 red balls, and then any 2 out of the remaing 14 non-red balls. We can solve this using our 'counting' approach or using the maths - two `choose` events, which are independent and so their probabilities can be multiplied..."
   ]
  },
  {
   "cell_type": "code",
   "execution_count": 33,
   "metadata": {
    "button": false,
    "new_sheet": false,
    "run_control": {
     "read_only": false
    }
   },
   "outputs": [
    {
     "data": {
      "text/plain": [
       "Fraction(546, 4807)"
      ]
     },
     "execution_count": 33,
     "metadata": {},
     "output_type": "execute_result"
    }
   ],
   "source": [
    "r4 = {s for s in U6 if\n",
    "      s.count('R') == 4}\n",
    "\n",
    "unif2_P(r4, U6)"
   ]
  },
  {
   "cell_type": "code",
   "execution_count": 34,
   "metadata": {
    "button": false,
    "new_sheet": false,
    "run_control": {
     "read_only": false
    }
   },
   "outputs": [
    {
     "data": {
      "text/plain": [
       "0.11358435614728521"
      ]
     },
     "execution_count": 34,
     "metadata": {},
     "output_type": "execute_result"
    }
   ],
   "source": [
    "546/4807"
   ]
  },
  {
   "cell_type": "code",
   "execution_count": 35,
   "metadata": {
    "button": false,
    "new_sheet": false,
    "run_control": {
     "read_only": false
    }
   },
   "outputs": [
    {
     "data": {
      "text/plain": [
       "0.0499271895152902"
      ]
     },
     "execution_count": 35,
     "metadata": {},
     "output_type": "execute_result"
    }
   ],
   "source": [
    "240/4807"
   ]
  },
  {
   "cell_type": "code",
   "execution_count": 36,
   "metadata": {
    "button": false,
    "new_sheet": false,
    "run_control": {
     "read_only": false
    }
   },
   "outputs": [
    {
     "data": {
      "text/plain": [
       "True"
      ]
     },
     "execution_count": 36,
     "metadata": {},
     "output_type": "execute_result"
    }
   ],
   "source": [
    "unif2_P(r4, U6) == Fraction(choose(9, 4) * choose(14, 2), len(U6))"
   ]
  },
  {
   "cell_type": "markdown",
   "metadata": {},
   "source": [
    "## Exercise 4  (SUBMIT)\n",
    "Try a third urn problem (below) yourself. You can use **either** the 'counting' or the 'maths' approach... (or both!)\n"
   ]
  },
  {
   "cell_type": "markdown",
   "metadata": {
    "button": false,
    "new_sheet": false,
    "run_control": {
     "read_only": false
    }
   },
   "source": [
    "### Urn Problem 3: What is the probability of 3 blue, 2 white, and 1 red?\n",
    "You should get the result shown below:\n"
   ]
  },
  {
   "cell_type": "code",
   "execution_count": 37,
   "metadata": {},
   "outputs": [
    {
     "data": {
      "text/plain": [
       "Fraction(240, 4807)"
      ]
     },
     "execution_count": 37,
     "metadata": {},
     "output_type": "execute_result"
    }
   ],
   "source": [
    "Fraction(choose(8,2) * choose(6,3) * choose(9,1), len(U6))"
   ]
  },
  {
   "cell_type": "code",
   "execution_count": 38,
   "metadata": {},
   "outputs": [],
   "source": [
    "b3w2r1 = {s for s in U6 if\n",
    "      s.count('B') == 3 and s.count('W') == 2 and s.count('R') == 1}"
   ]
  },
  {
   "cell_type": "code",
   "execution_count": 39,
   "metadata": {
    "button": false,
    "new_sheet": false,
    "run_control": {
     "read_only": false
    }
   },
   "outputs": [
    {
     "data": {
      "text/plain": [
       "Fraction(240, 4807)"
      ]
     },
     "execution_count": 39,
     "metadata": {},
     "output_type": "execute_result"
    }
   ],
   "source": [
    "unif2_P(b3w2r1, U6)"
   ]
  },
  {
   "cell_type": "markdown",
   "metadata": {
    "button": false,
    "new_sheet": false,
    "run_control": {
     "read_only": false
    }
   },
   "source": [
    "Output should be\n",
    "`Fraction(240, 4807)`, \n",
    "which is almost exactly 5%"
   ]
  },
  {
   "cell_type": "markdown",
   "metadata": {
    "button": false,
    "new_sheet": false,
    "run_control": {
     "read_only": false
    }
   },
   "source": [
    "# A 'sophisticated' version of `unif_P`, for more general events\n",
    "\n",
    "As noted above, much of the inspiration for these lab exercises cames from an excellect tutorial created by Peter Norwig.  (I will make a link to his web site after the lab - but didn't want you to 'cheat' and go find all of the answers in his examples!) \n",
    "\n",
    "However, I am going to more or less copy/paste this next section from his material as it is quite 'technical', in terms of the Python used - as opposed to any of the probability work. As such it doesn't really matter that you 'get' all the details of the implementation on first reading... just try to appreciate the approach, and realise that introducing this level of increased generality brings a LOT more power to the approach than our initial simple functions - particularly in the card-playing examples, etc.\n"
   ]
  },
  {
   "cell_type": "markdown",
   "metadata": {
    "button": false,
    "new_sheet": false,
    "run_control": {
     "read_only": false
    }
   },
   "source": [
    "To quote Norwig...\n",
    "\n",
    "When calculating the probability of an even die roll, we originally said\n",
    "\n",
    "    even = {2, 4, 6}\n",
    "    \n",
    "But this is rather inelegant...  we had to explicitly enumerate all the even numbers from one to six. What if we wanted to work with a twelve or twenty-sided die, we would have to go back and change the event `even` for each scenario.  It would be much better to define what `even` means once and then use that 'predicate'..."
   ]
  },
  {
   "cell_type": "code",
   "execution_count": 40,
   "metadata": {
    "button": false,
    "new_sheet": false,
    "run_control": {
     "read_only": false
    }
   },
   "outputs": [],
   "source": [
    "def even(n): return n % 2 == 0"
   ]
  },
  {
   "cell_type": "markdown",
   "metadata": {
    "button": false,
    "new_sheet": false,
    "run_control": {
     "read_only": false
    }
   },
   "source": [
    "We can also create a function `such_that` that takes a defined predicate and a collection of items, and returns those members of the collection that are covered by the terms of the predicate:"
   ]
  },
  {
   "cell_type": "code",
   "execution_count": 41,
   "metadata": {
    "button": false,
    "new_sheet": false,
    "run_control": {
     "read_only": false
    }
   },
   "outputs": [],
   "source": [
    "def such_that(predicate, collection): \n",
    "    \"The subset of elements in the collection for which the predicate is true.\"\n",
    "    return {e for e in collection if predicate(e)}"
   ]
  },
  {
   "cell_type": "code",
   "execution_count": 42,
   "metadata": {
    "button": false,
    "new_sheet": false,
    "run_control": {
     "read_only": false
    }
   },
   "outputs": [
    {
     "data": {
      "text/plain": [
       "{2, 4, 6}"
      ]
     },
     "execution_count": 42,
     "metadata": {},
     "output_type": "execute_result"
    }
   ],
   "source": [
    "such_that(even, six_sided_die)"
   ]
  },
  {
   "cell_type": "markdown",
   "metadata": {
    "button": false,
    "new_sheet": false,
    "run_control": {
     "read_only": false
    }
   },
   "source": [
    "This allows us to deal with our 12-sided die (without explicit enumeration):"
   ]
  },
  {
   "cell_type": "code",
   "execution_count": 43,
   "metadata": {
    "button": false,
    "new_sheet": false,
    "run_control": {
     "read_only": false
    }
   },
   "outputs": [
    {
     "data": {
      "text/plain": [
       "{2, 4, 6, 8, 10, 12}"
      ]
     },
     "execution_count": 43,
     "metadata": {},
     "output_type": "execute_result"
    }
   ],
   "source": [
    "twelve_sided_die = {1, 2, 3, 4, 5, 6, 7, 8, 9, 10, 11, 12}\n",
    "\n",
    "such_that(even, twelve_sided_die)"
   ]
  },
  {
   "cell_type": "markdown",
   "metadata": {
    "button": false,
    "new_sheet": false,
    "run_control": {
     "read_only": false
    }
   },
   "source": [
    "Norwig called his new function for probability simply `P` so we will go with that and now need to edit that function so that we can, for example, make sure that `P(even, D)` will work. That is, we need to modify `P` to accept an event as either as a a *set* of outcomes (as we had before), or as a *predicate* over outcomes:"
   ]
  },
  {
   "cell_type": "code",
   "execution_count": 44,
   "metadata": {
    "button": false,
    "new_sheet": false,
    "run_control": {
     "read_only": false
    }
   },
   "outputs": [],
   "source": [
    "#is_predicate = callable\n",
    "\n",
    "def P(event, sample_space): \n",
    "    \"\"\"The probability of an event, given a sample space of equiprobable outcomes.\n",
    "    The event can be either a set of outcomes, or a predicate (true for outcomes in the event).\"\"\"\n",
    "    if callable(event):\n",
    "        event = such_that(event, sample_space)\n",
    "    return Fraction(len(event & sample_space), len(sample_space))\n"
   ]
  },
  {
   "cell_type": "markdown",
   "metadata": {
    "button": false,
    "new_sheet": false,
    "run_control": {
     "read_only": false
    }
   },
   "source": [
    "Now lets see how we can use `such_that` and the `even` predicate in this new version of `P`:"
   ]
  },
  {
   "cell_type": "code",
   "execution_count": 45,
   "metadata": {
    "button": false,
    "new_sheet": false,
    "run_control": {
     "read_only": false
    }
   },
   "outputs": [
    {
     "data": {
      "text/plain": [
       "Fraction(1, 2)"
      ]
     },
     "execution_count": 45,
     "metadata": {},
     "output_type": "execute_result"
    }
   ],
   "source": [
    "P(even, six_sided_die)"
   ]
  },
  {
   "cell_type": "code",
   "execution_count": 46,
   "metadata": {
    "button": false,
    "new_sheet": false,
    "run_control": {
     "read_only": false
    }
   },
   "outputs": [
    {
     "data": {
      "text/plain": [
       "Fraction(1, 2)"
      ]
     },
     "execution_count": 46,
     "metadata": {},
     "output_type": "execute_result"
    }
   ],
   "source": [
    "P(even, twelve_sided_die)"
   ]
  },
  {
   "cell_type": "markdown",
   "metadata": {
    "button": false,
    "new_sheet": false,
    "run_control": {
     "read_only": false
    }
   },
   "source": [
    "This feels like a **lot** of work to have gone to just to save us enumerating the 6 even possibilities on a 12-sided die, or even the 10 possibilities on a 20-sided die, but hopefully you will begin to see the power/rationale in a few eamples below.\n",
    "\n",
    "*Note*: `such_that` is operating in a very similar manner to Python's built-in function `filter` which you may well have come across elsewhere, except that `such_that` is returning a set.\n"
   ]
  },
  {
   "cell_type": "markdown",
   "metadata": {
    "button": false,
    "new_sheet": false,
    "run_control": {
     "read_only": false
    }
   },
   "source": [
    "Below is an example of how we could expand on this approach by defining a new predicate for a more 'interesting' event. This event will be that the outcome of throwing 3 six-sided die will result in a total number that is prime.\n",
    "\n",
    "(This includes a simple definition of `is_prime` that is efficient enough when we are only working with small numbers, it is NOT generally the way that we would test whether some number was a prime.)"
   ]
  },
  {
   "cell_type": "code",
   "execution_count": 47,
   "metadata": {
    "button": false,
    "new_sheet": false,
    "run_control": {
     "read_only": false
    }
   },
   "outputs": [
    {
     "data": {
      "text/plain": [
       "Fraction(73, 216)"
      ]
     },
     "execution_count": 47,
     "metadata": {},
     "output_type": "execute_result"
    }
   ],
   "source": [
    "roll_3_dice = {(d1, d2, d3) for d1 in six_sided_die for d2 in six_sided_die for d3 in six_sided_die}\n",
    "\n",
    "def prime_sum(outcome): return is_prime(sum(outcome))\n",
    "\n",
    "def is_prime(n): return n > 1 and not any(n % i == 0 for i in range(2, n))\n",
    "\n",
    "P(prime_sum, roll_3_dice)"
   ]
  },
  {
   "cell_type": "code",
   "execution_count": 48,
   "metadata": {
    "button": false,
    "new_sheet": false,
    "run_control": {
     "read_only": false
    }
   },
   "outputs": [
    {
     "data": {
      "text/plain": [
       "'0.34'"
      ]
     },
     "execution_count": 48,
     "metadata": {},
     "output_type": "execute_result"
    }
   ],
   "source": [
    "'{0:.2}'.format(73/216)"
   ]
  },
  {
   "cell_type": "markdown",
   "metadata": {
    "button": false,
    "new_sheet": false,
    "run_control": {
     "read_only": false
    }
   },
   "source": [
    "## Exerise 5 (SUBMIT)\n",
    " \n",
    "OK, so we got a number - how might we get at least a general sense as to whether this was right?\n",
    "\n",
    "Well rolling 3 dice will indeed lead to 216 different possible outcomes (6 X 6 X 6) so the demoninator seems correct. \n",
    "\n",
    "But what about the numerator (the number on top) - does this seem correct?\n",
    "\n",
    "There are different ways you could attack this - from a 'back of the envelope' to a more formal maths solution. Try whatever works for you to get a sense as to whether 73/216 (**~0.34**) seems *about right*?\n"
   ]
  },
  {
   "cell_type": "markdown",
   "metadata": {},
   "source": [
    "### Solution\n",
    "\n",
    "We plotted the number of appearances of each possible sum. We will now count how many times each prime number appears in this reduced range, because it is feasible.\n",
    "\n",
    "3: 1\n",
    "\n",
    "5: 6\n",
    "\n",
    "7: 15\n",
    "\n",
    "11: 27\n",
    "\n",
    "13: 21\n",
    "\n",
    "17: 3\n",
    "\n",
    "Then the answer is $(1+6+15+26+21+3) / 216 = 73 / 216$."
   ]
  },
  {
   "cell_type": "code",
   "execution_count": 49,
   "metadata": {},
   "outputs": [
    {
     "data": {
      "text/plain": [
       "(array([ 1.,  0.,  0.,  0.,  0.,  0.,  0.,  0.,  0.,  0.,  0.,  0.,  0.,\n",
       "         0.,  3.,  0.,  0.,  0.,  0.,  0.,  0.,  0.,  0.,  0.,  0.,  0.,\n",
       "         0.,  0.,  6.,  0.,  0.,  0.,  0.,  0.,  0.,  0.,  0.,  0.,  0.,\n",
       "         0.,  0.,  0.,  0., 10.,  0.,  0.,  0.,  0.,  0.,  0.,  0.,  0.,\n",
       "         0.,  0.,  0.,  0.,  0., 15.,  0.,  0.,  0.,  0.,  0.,  0.,  0.,\n",
       "         0.,  0.,  0.,  0.,  0.,  0.,  0., 21.,  0.,  0.,  0.,  0.,  0.,\n",
       "         0.,  0.,  0.,  0.,  0.,  0.,  0.,  0., 25.,  0.,  0.,  0.,  0.,\n",
       "         0.,  0.,  0.,  0.,  0.,  0.,  0.,  0.,  0., 27.,  0.,  0.,  0.,\n",
       "         0.,  0.,  0.,  0.,  0.,  0.,  0.,  0.,  0.,  0.,  0., 27.,  0.,\n",
       "         0.,  0.,  0.,  0.,  0.,  0.,  0.,  0.,  0.,  0.,  0.,  0., 25.,\n",
       "         0.,  0.,  0.,  0.,  0.,  0.,  0.,  0.,  0.,  0.,  0.,  0.,  0.,\n",
       "         0., 21.,  0.,  0.,  0.,  0.,  0.,  0.,  0.,  0.,  0.,  0.,  0.,\n",
       "         0.,  0., 15.,  0.,  0.,  0.,  0.,  0.,  0.,  0.,  0.,  0.,  0.,\n",
       "         0.,  0.,  0., 10.,  0.,  0.,  0.,  0.,  0.,  0.,  0.,  0.,  0.,\n",
       "         0.,  0.,  0.,  0.,  0.,  6.,  0.,  0.,  0.,  0.,  0.,  0.,  0.,\n",
       "         0.,  0.,  0.,  0.,  0.,  0.,  3.,  0.,  0.,  0.,  0.,  0.,  0.,\n",
       "         0.,  0.,  0.,  0.,  0.,  0.,  0.,  1.]),\n",
       " array([ 3.        ,  3.06944444,  3.13888889,  3.20833333,  3.27777778,\n",
       "         3.34722222,  3.41666667,  3.48611111,  3.55555556,  3.625     ,\n",
       "         3.69444444,  3.76388889,  3.83333333,  3.90277778,  3.97222222,\n",
       "         4.04166667,  4.11111111,  4.18055556,  4.25      ,  4.31944444,\n",
       "         4.38888889,  4.45833333,  4.52777778,  4.59722222,  4.66666667,\n",
       "         4.73611111,  4.80555556,  4.875     ,  4.94444444,  5.01388889,\n",
       "         5.08333333,  5.15277778,  5.22222222,  5.29166667,  5.36111111,\n",
       "         5.43055556,  5.5       ,  5.56944444,  5.63888889,  5.70833333,\n",
       "         5.77777778,  5.84722222,  5.91666667,  5.98611111,  6.05555556,\n",
       "         6.125     ,  6.19444444,  6.26388889,  6.33333333,  6.40277778,\n",
       "         6.47222222,  6.54166667,  6.61111111,  6.68055556,  6.75      ,\n",
       "         6.81944444,  6.88888889,  6.95833333,  7.02777778,  7.09722222,\n",
       "         7.16666667,  7.23611111,  7.30555556,  7.375     ,  7.44444444,\n",
       "         7.51388889,  7.58333333,  7.65277778,  7.72222222,  7.79166667,\n",
       "         7.86111111,  7.93055556,  8.        ,  8.06944444,  8.13888889,\n",
       "         8.20833333,  8.27777778,  8.34722222,  8.41666667,  8.48611111,\n",
       "         8.55555556,  8.625     ,  8.69444444,  8.76388889,  8.83333333,\n",
       "         8.90277778,  8.97222222,  9.04166667,  9.11111111,  9.18055556,\n",
       "         9.25      ,  9.31944444,  9.38888889,  9.45833333,  9.52777778,\n",
       "         9.59722222,  9.66666667,  9.73611111,  9.80555556,  9.875     ,\n",
       "         9.94444444, 10.01388889, 10.08333333, 10.15277778, 10.22222222,\n",
       "        10.29166667, 10.36111111, 10.43055556, 10.5       , 10.56944444,\n",
       "        10.63888889, 10.70833333, 10.77777778, 10.84722222, 10.91666667,\n",
       "        10.98611111, 11.05555556, 11.125     , 11.19444444, 11.26388889,\n",
       "        11.33333333, 11.40277778, 11.47222222, 11.54166667, 11.61111111,\n",
       "        11.68055556, 11.75      , 11.81944444, 11.88888889, 11.95833333,\n",
       "        12.02777778, 12.09722222, 12.16666667, 12.23611111, 12.30555556,\n",
       "        12.375     , 12.44444444, 12.51388889, 12.58333333, 12.65277778,\n",
       "        12.72222222, 12.79166667, 12.86111111, 12.93055556, 13.        ,\n",
       "        13.06944444, 13.13888889, 13.20833333, 13.27777778, 13.34722222,\n",
       "        13.41666667, 13.48611111, 13.55555556, 13.625     , 13.69444444,\n",
       "        13.76388889, 13.83333333, 13.90277778, 13.97222222, 14.04166667,\n",
       "        14.11111111, 14.18055556, 14.25      , 14.31944444, 14.38888889,\n",
       "        14.45833333, 14.52777778, 14.59722222, 14.66666667, 14.73611111,\n",
       "        14.80555556, 14.875     , 14.94444444, 15.01388889, 15.08333333,\n",
       "        15.15277778, 15.22222222, 15.29166667, 15.36111111, 15.43055556,\n",
       "        15.5       , 15.56944444, 15.63888889, 15.70833333, 15.77777778,\n",
       "        15.84722222, 15.91666667, 15.98611111, 16.05555556, 16.125     ,\n",
       "        16.19444444, 16.26388889, 16.33333333, 16.40277778, 16.47222222,\n",
       "        16.54166667, 16.61111111, 16.68055556, 16.75      , 16.81944444,\n",
       "        16.88888889, 16.95833333, 17.02777778, 17.09722222, 17.16666667,\n",
       "        17.23611111, 17.30555556, 17.375     , 17.44444444, 17.51388889,\n",
       "        17.58333333, 17.65277778, 17.72222222, 17.79166667, 17.86111111,\n",
       "        17.93055556, 18.        ]),\n",
       " <a list of 216 Patch objects>)"
      ]
     },
     "execution_count": 49,
     "metadata": {},
     "output_type": "execute_result"
    },
    {
     "data": {
      "image/png": "[encoded data removed]",
      "text/plain": [
       "<Figure size 640x480 with 1 Axes>"
      ]
     },
     "metadata": {},
     "output_type": "display_data"
    }
   ],
   "source": [
    "import matplotlib.pyplot as plt\n",
    "\n",
    "plt.hist([sum(a) for a in roll_3_dice], bins=216)"
   ]
  },
  {
   "cell_type": "code",
   "execution_count": 50,
   "metadata": {},
   "outputs": [
    {
     "data": {
      "text/plain": [
       "[1, 6, 15, 27, 21, 3]"
      ]
     },
     "execution_count": 50,
     "metadata": {},
     "output_type": "execute_result"
    }
   ],
   "source": [
    "[ [sum(a) for a in roll_3_dice].count(p) for p in [3,5,7,11,13,17]]"
   ]
  },
  {
   "cell_type": "markdown",
   "metadata": {},
   "source": [
    "We also checked every tuple in the `such_that(prime_sum, roll_3_dice)` set to have its sum a prime number:"
   ]
  },
  {
   "cell_type": "code",
   "execution_count": 73,
   "metadata": {},
   "outputs": [
    {
     "name": "stdout",
     "output_type": "stream",
     "text": [
      "11\n",
      "7\n",
      "11\n",
      "11\n",
      "13\n",
      "13\n",
      "11\n",
      "7\n",
      "13\n",
      "11\n",
      "13\n",
      "11\n",
      "5\n",
      "7\n",
      "13\n",
      "11\n",
      "13\n",
      "7\n",
      "11\n",
      "11\n",
      "7\n",
      "13\n",
      "11\n",
      "11\n",
      "13\n",
      "11\n",
      "11\n",
      "5\n",
      "13\n",
      "13\n",
      "11\n",
      "5\n",
      "5\n",
      "13\n",
      "13\n",
      "11\n",
      "13\n",
      "5\n",
      "13\n",
      "11\n",
      "7\n",
      "11\n",
      "13\n",
      "7\n",
      "13\n",
      "7\n",
      "7\n",
      "11\n",
      "13\n",
      "7\n",
      "7\n",
      "11\n",
      "11\n",
      "7\n",
      "7\n",
      "17\n",
      "13\n",
      "11\n",
      "13\n",
      "17\n",
      "7\n",
      "13\n",
      "5\n",
      "17\n",
      "7\n",
      "11\n",
      "11\n",
      "11\n",
      "11\n",
      "11\n",
      "13\n",
      "11\n",
      "3\n"
     ]
    },
    {
     "data": {
      "text/plain": [
       "'The tuple sums return prime numbers, hence 73 is the correct value at numerator'"
      ]
     },
     "execution_count": 73,
     "metadata": {},
     "output_type": "execute_result"
    }
   ],
   "source": [
    "def verify_num(my_set):\n",
    "    count = 0\n",
    "    for my_tuple in list(my_set):\n",
    "        total = sum(my_tuple)\n",
    "        print(total)\n",
    "        if is_prime(total):\n",
    "            count += 1\n",
    "    return 'The tuple sums return prime numbers, hence {} is the correct value at numerator'.format(count)\n",
    "verify_num(such_that(prime_sum, roll_3_dice))"
   ]
  },
  {
   "cell_type": "markdown",
   "metadata": {
    "button": false,
    "new_sheet": false,
    "run_control": {
     "read_only": false
    }
   },
   "source": [
    "You could of course also use the `such_that` function to check which of the 216 outcomes satisfy the `prime_sum` predicate - and if you were really keen you could check that all 73 of these events summed to a prime!!\n"
   ]
  },
  {
   "cell_type": "code",
   "execution_count": 52,
   "metadata": {
    "button": false,
    "new_sheet": false,
    "run_control": {
     "read_only": false
    },
    "scrolled": true
   },
   "outputs": [
    {
     "data": {
      "text/plain": [
       "{(1, 1, 1),\n",
       " (1, 1, 3),\n",
       " (1, 1, 5),\n",
       " (1, 2, 2),\n",
       " (1, 2, 4),\n",
       " (1, 3, 1),\n",
       " (1, 3, 3),\n",
       " (1, 4, 2),\n",
       " (1, 4, 6),\n",
       " (1, 5, 1),\n",
       " (1, 5, 5),\n",
       " (1, 6, 4),\n",
       " (1, 6, 6),\n",
       " (2, 1, 2),\n",
       " (2, 1, 4),\n",
       " (2, 2, 1),\n",
       " (2, 2, 3),\n",
       " (2, 3, 2),\n",
       " (2, 3, 6),\n",
       " (2, 4, 1),\n",
       " (2, 4, 5),\n",
       " (2, 5, 4),\n",
       " (2, 5, 6),\n",
       " (2, 6, 3),\n",
       " (2, 6, 5),\n",
       " (3, 1, 1),\n",
       " (3, 1, 3),\n",
       " (3, 2, 2),\n",
       " (3, 2, 6),\n",
       " (3, 3, 1),\n",
       " (3, 3, 5),\n",
       " (3, 4, 4),\n",
       " (3, 4, 6),\n",
       " (3, 5, 3),\n",
       " (3, 5, 5),\n",
       " (3, 6, 2),\n",
       " (3, 6, 4),\n",
       " (4, 1, 2),\n",
       " (4, 1, 6),\n",
       " (4, 2, 1),\n",
       " (4, 2, 5),\n",
       " (4, 3, 4),\n",
       " (4, 3, 6),\n",
       " (4, 4, 3),\n",
       " (4, 4, 5),\n",
       " (4, 5, 2),\n",
       " (4, 5, 4),\n",
       " (4, 6, 1),\n",
       " (4, 6, 3),\n",
       " (5, 1, 1),\n",
       " (5, 1, 5),\n",
       " (5, 2, 4),\n",
       " (5, 2, 6),\n",
       " (5, 3, 3),\n",
       " (5, 3, 5),\n",
       " (5, 4, 2),\n",
       " (5, 4, 4),\n",
       " (5, 5, 1),\n",
       " (5, 5, 3),\n",
       " (5, 6, 2),\n",
       " (5, 6, 6),\n",
       " (6, 1, 4),\n",
       " (6, 1, 6),\n",
       " (6, 2, 3),\n",
       " (6, 2, 5),\n",
       " (6, 3, 2),\n",
       " (6, 3, 4),\n",
       " (6, 4, 1),\n",
       " (6, 4, 3),\n",
       " (6, 5, 2),\n",
       " (6, 5, 6),\n",
       " (6, 6, 1),\n",
       " (6, 6, 5)}"
      ]
     },
     "execution_count": 52,
     "metadata": {},
     "output_type": "execute_result"
    }
   ],
   "source": [
    "such_that(prime_sum, roll_3_dice)"
   ]
  },
  {
   "cell_type": "markdown",
   "metadata": {
    "button": false,
    "new_sheet": false,
    "run_control": {
     "read_only": false
    }
   },
   "source": [
    "# Card Problems\n",
    "\n",
    "Here is just a couple of examples of how we can use the 'countability' approach and the nice general `P` function that Norwig has suggested above to explore various probabilities associated with card games.\n",
    "\n",
    "Just in case you are not familar - this link in [Wikipedia](https://en.wikipedia.org/wiki/Playing_card#Modern_deck_formats) gives some background - and also points out that the 4 suits have had many other names/symbols over the years and across different cultures (so apologies for the very 'UK/N America' styling of the examples here). \n",
    "\n",
    "We have 4 `suits` {Diamond, Hearts, Spades, Clubs} and 13 `ranks` within each suit from {2} up to {Ace}...  as shown above we can therefore generate a `deck` as a set of 52 cards using our `char_cross` function."
   ]
  },
  {
   "cell_type": "code",
   "execution_count": 53,
   "metadata": {
    "button": false,
    "new_sheet": false,
    "run_control": {
     "read_only": false
    }
   },
   "outputs": [
    {
     "data": {
      "text/plain": [
       "52"
      ]
     },
     "execution_count": 53,
     "metadata": {},
     "output_type": "execute_result"
    }
   ],
   "source": [
    "suits = 'SHDC'\n",
    "ranks = 'A23456789TJQK'\n",
    "deck  = char_cross(ranks, suits)\n",
    "len(deck)"
   ]
  },
  {
   "cell_type": "code",
   "execution_count": 54,
   "metadata": {
    "button": false,
    "new_sheet": false,
    "run_control": {
     "read_only": false
    }
   },
   "outputs": [
    {
     "data": {
      "text/plain": [
       "{'2C',\n",
       " '2D',\n",
       " '2H',\n",
       " '2S',\n",
       " '3C',\n",
       " '3D',\n",
       " '3H',\n",
       " '3S',\n",
       " '4C',\n",
       " '4D',\n",
       " '4H',\n",
       " '4S',\n",
       " '5C',\n",
       " '5D',\n",
       " '5H',\n",
       " '5S',\n",
       " '6C',\n",
       " '6D',\n",
       " '6H',\n",
       " '6S',\n",
       " '7C',\n",
       " '7D',\n",
       " '7H',\n",
       " '7S',\n",
       " '8C',\n",
       " '8D',\n",
       " '8H',\n",
       " '8S',\n",
       " '9C',\n",
       " '9D',\n",
       " '9H',\n",
       " '9S',\n",
       " 'AC',\n",
       " 'AD',\n",
       " 'AH',\n",
       " 'AS',\n",
       " 'JC',\n",
       " 'JD',\n",
       " 'JH',\n",
       " 'JS',\n",
       " 'KC',\n",
       " 'KD',\n",
       " 'KH',\n",
       " 'KS',\n",
       " 'QC',\n",
       " 'QD',\n",
       " 'QH',\n",
       " 'QS',\n",
       " 'TC',\n",
       " 'TD',\n",
       " 'TH',\n",
       " 'TS'}"
      ]
     },
     "execution_count": 54,
     "metadata": {},
     "output_type": "execute_result"
    }
   ],
   "source": [
    "deck"
   ]
  },
  {
   "cell_type": "markdown",
   "metadata": {
    "button": false,
    "new_sheet": false,
    "run_control": {
     "read_only": false
    }
   },
   "source": [
    "## 5-card hands\n",
    "\n",
    "A hand in a game such as *poker* will (at the end of each round) consist of 5 cards. A question of interest might be, how many possible `hands` exist when you are just starting a game?\n",
    "\n",
    "Well, using the 'maths' way of specifying this the number would be \"52 choose 5\" which indicated just under 2.6M possible hands...  so you really have to admire those *card counters*!!\n",
    "\n",
    "We could also use our 'countability' approach and see what combination of (5 card) `hands` might be randomly sampled from our (52 card) `deck`.\n"
   ]
  },
  {
   "cell_type": "code",
   "execution_count": 55,
   "metadata": {
    "button": false,
    "new_sheet": false,
    "run_control": {
     "read_only": false
    }
   },
   "outputs": [],
   "source": [
    "hands = combos(deck, 5)\n",
    "# assert len(Hands) == choose(52, 5)"
   ]
  },
  {
   "cell_type": "code",
   "execution_count": 56,
   "metadata": {
    "button": false,
    "new_sheet": false,
    "run_control": {
     "read_only": false
    }
   },
   "outputs": [
    {
     "data": {
      "text/plain": [
       "2598960"
      ]
     },
     "execution_count": 56,
     "metadata": {},
     "output_type": "execute_result"
    }
   ],
   "source": [
    "len(hands)"
   ]
  },
  {
   "cell_type": "code",
   "execution_count": 57,
   "metadata": {
    "button": false,
    "new_sheet": false,
    "run_control": {
     "read_only": false
    }
   },
   "outputs": [
    {
     "data": {
      "text/plain": [
       "2598960"
      ]
     },
     "execution_count": 57,
     "metadata": {},
     "output_type": "execute_result"
    }
   ],
   "source": [
    "choose(52, 5)"
   ]
  },
  {
   "cell_type": "markdown",
   "metadata": {
    "button": false,
    "new_sheet": false,
    "run_control": {
     "read_only": false
    }
   },
   "source": [
    "## Poker hands\n",
    "\n",
    "We can't meaningfully take a look at all 2.6M possible hands!!!  But we could make a random selection of, say, 6 hands to see whether the contents of each hand makes sense... \n",
    "\n",
    "The cards that you see will be different every time (hopefully obvious), and the same card may appear more than once (though NOT in the same hand) - i.e. the scenario we are simulating is just all possible hands, **not** the set of hands that you might get in a game with 6 people playing...\n",
    "\n",
    "In fact, given that you are looking at 30 of the 52 cards available, it is more likely than not that at least one of the cards will appear more than once.\n"
   ]
  },
  {
   "cell_type": "code",
   "execution_count": 58,
   "metadata": {
    "button": false,
    "new_sheet": false,
    "run_control": {
     "read_only": false
    }
   },
   "outputs": [
    {
     "data": {
      "text/plain": [
       "['3H KS 8H 5S AS',\n",
       " '5C JS QD AD QC',\n",
       " '2D JH 7C 4C 2S',\n",
       " '3C AH 3S 6D 2S',\n",
       " '6S 5D 8H AS JC',\n",
       " '5D 5S KD 9D QD']"
      ]
     },
     "execution_count": 58,
     "metadata": {},
     "output_type": "execute_result"
    }
   ],
   "source": [
    "random.sample(hands, 6)"
   ]
  },
  {
   "cell_type": "markdown",
   "metadata": {
    "button": false,
    "new_sheet": false,
    "run_control": {
     "read_only": false
    }
   },
   "source": [
    "We can now use the idea of *predicates* to answer questions such as the probability of being dealt a flush (5 cards of the same suit).  If you are interested see [hand-ranking categories](https://en.wikipedia.org/wiki/List_of_poker_hands) for a full list of types of hands... though the variations in rules thru time and across countries can make this quite confusing!\n"
   ]
  },
  {
   "cell_type": "code",
   "execution_count": 59,
   "metadata": {
    "button": false,
    "new_sheet": false,
    "run_control": {
     "read_only": false
    }
   },
   "outputs": [
    {
     "data": {
      "text/plain": [
       "Fraction(33, 16660)"
      ]
     },
     "execution_count": 59,
     "metadata": {},
     "output_type": "execute_result"
    }
   ],
   "source": [
    "def flush(hand):\n",
    "    return any(hand.count(suit) == 5 for suit in suits)\n",
    "\n",
    "P(flush, hands)"
   ]
  },
  {
   "cell_type": "code",
   "execution_count": 61,
   "metadata": {
    "button": false,
    "new_sheet": false,
    "run_control": {
     "read_only": false
    }
   },
   "outputs": [
    {
     "data": {
      "text/plain": [
       "'0.00198'"
      ]
     },
     "execution_count": 61,
     "metadata": {},
     "output_type": "execute_result"
    }
   ],
   "source": [
    "'{0:.3}'.format(33/16660)"
   ]
  },
  {
   "cell_type": "markdown",
   "metadata": {
    "button": false,
    "new_sheet": false,
    "run_control": {
     "read_only": false
    }
   },
   "source": [
    "## Exerise 6 (SUBMIT)\n",
    " \n",
    "Calculate the probability of getting four of a kind:\n",
    "(Remember that the computer has to check 2.6M hands, so this may take some time!!) My function was called `four_of_a_kind`\n"
   ]
  },
  {
   "cell_type": "code",
   "execution_count": 62,
   "metadata": {},
   "outputs": [],
   "source": [
    "def four_of_a_kind(hand):\n",
    "    return any(hand.count(rank) == 4 for rank in ranks)"
   ]
  },
  {
   "cell_type": "code",
   "execution_count": 63,
   "metadata": {
    "button": false,
    "new_sheet": false,
    "run_control": {
     "read_only": false
    }
   },
   "outputs": [
    {
     "data": {
      "text/plain": [
       "Fraction(1, 4165)"
      ]
     },
     "execution_count": 63,
     "metadata": {},
     "output_type": "execute_result"
    }
   ],
   "source": [
    "P(four_of_a_kind, hands)"
   ]
  },
  {
   "cell_type": "markdown",
   "metadata": {
    "button": false,
    "new_sheet": false,
    "run_control": {
     "read_only": false
    }
   },
   "source": [
    "Output should be `Fraction(1, 4165)`"
   ]
  },
  {
   "cell_type": "markdown",
   "metadata": {
    "button": false,
    "new_sheet": false,
    "run_control": {
     "read_only": false
    }
   },
   "source": [
    "So you have almost 10 times as much chance of being dealt a `flush` as you do being dealt `four of a kind`.  You can use the results obtained above, or if you want to do it 'from scratch' then feel free to run the full calcuation - but it may take 20-30 seconds to run..."
   ]
  },
  {
   "cell_type": "code",
   "execution_count": 64,
   "metadata": {
    "button": false,
    "new_sheet": false,
    "run_control": {
     "read_only": false
    }
   },
   "outputs": [
    {
     "data": {
      "text/plain": [
       "'8.25'"
      ]
     },
     "execution_count": 64,
     "metadata": {},
     "output_type": "execute_result"
    }
   ],
   "source": [
    "# Short/quick version\n",
    "'{0:.3}'.format((33/16660) / (1/4165))"
   ]
  },
  {
   "cell_type": "code",
   "execution_count": 65,
   "metadata": {
    "button": false,
    "new_sheet": false,
    "run_control": {
     "read_only": false
    }
   },
   "outputs": [
    {
     "data": {
      "text/plain": [
       "Fraction(33, 4)"
      ]
     },
     "execution_count": 65,
     "metadata": {},
     "output_type": "execute_result"
    }
   ],
   "source": [
    "# Re-run the underlying funtions to get proportions\n",
    "P(flush, hands) / P(four_of_a_kind, hands)"
   ]
  },
  {
   "cell_type": "code",
   "execution_count": 66,
   "metadata": {
    "button": false,
    "new_sheet": false,
    "run_control": {
     "read_only": false
    },
    "scrolled": true
   },
   "outputs": [
    {
     "data": {
      "text/plain": [
       "'8.25'"
      ]
     },
     "execution_count": 66,
     "metadata": {},
     "output_type": "execute_result"
    }
   ],
   "source": [
    "'{0:.3}'.format(33/4)"
   ]
  },
  {
   "cell_type": "markdown",
   "metadata": {
    "button": false,
    "new_sheet": false,
    "run_control": {
     "read_only": false
    }
   },
   "source": [
    "### Exerise  (SUBMIT for 2 bonus marks - but don't attempt until after you have looked at Lab3b)\n",
    " \n",
    "Why not challenge yourself to find the probabilities of some other important [poker hand](https://en.wikipedia.org/wiki/List_of_poker_hands)...\n",
    "\n",
    "What about:\n",
    "- three of a kind\n",
    "- straight\n",
    "- a full house\n",
    "- straight flush\n",
    "- two pairs\n",
    "\n",
    "The probabilities you discover for each of these should be in the order in which their 'rank' counts in the game of poker - e.g. the lower rank of the 5 hands listed is `two pairs` so this should have the lowest probability. This might help you in terms of being a quick way of checking that you are in the right track.\n",
    "\n",
    "Many sites on the Web give the probabilities for each outcome based on the 'maths' approach - but you might enjoy the challenge of trying to do this using our 'countability' approach..."
   ]
  },
  {
   "cell_type": "code",
   "execution_count": 67,
   "metadata": {},
   "outputs": [],
   "source": [
    "def get_ranks(hand):\n",
    "    \"\"\"gets the list of ranks as integers in a hand\"\"\"\n",
    "    def to_int(l):\n",
    "        \"\"\"gets the assigned number to each rank\"\"\"\n",
    "        if l == 'A': return 1\n",
    "        if l == 'T': return 10\n",
    "        if l == 'J': return 11\n",
    "        if l == 'Q': return 12\n",
    "        if l == 'K': return 13\n",
    "        return int(l)\n",
    "    return [to_int(hand[i]) for i in [0,3,6,9,12]]"
   ]
  },
  {
   "cell_type": "code",
   "execution_count": 68,
   "metadata": {},
   "outputs": [
    {
     "data": {
      "text/plain": [
       "Fraction(3, 216580)"
      ]
     },
     "execution_count": 68,
     "metadata": {},
     "output_type": "execute_result"
    }
   ],
   "source": [
    "def straight_flush(hand):\n",
    "    rks = get_ranks(hand)\n",
    "    different_ranks = len(rks) == len(set(rks))\n",
    "    spanning_five = (max(rks) - min(rks) == 4)\n",
    "    return any(hand.count(suit) == 5 for suit in suits) and \\\n",
    "        different_ranks and spanning_five\n",
    "\n",
    "P(straight_flush, hands)"
   ]
  },
  {
   "cell_type": "code",
   "execution_count": 69,
   "metadata": {},
   "outputs": [
    {
     "data": {
      "text/plain": [
       "Fraction(6, 4165)"
      ]
     },
     "execution_count": 69,
     "metadata": {},
     "output_type": "execute_result"
    }
   ],
   "source": [
    "def full_house(hand):\n",
    "    return any(hand.count(rank) == 3 for rank in ranks) and \\\n",
    "        any(hand.count(rank) == 2 for rank in ranks)\n",
    "\n",
    "P(full_house, hands)"
   ]
  },
  {
   "cell_type": "code",
   "execution_count": 70,
   "metadata": {},
   "outputs": [
    {
     "data": {
      "text/plain": [
       "Fraction(9, 2548)"
      ]
     },
     "execution_count": 70,
     "metadata": {},
     "output_type": "execute_result"
    }
   ],
   "source": [
    "def straight(hand):\n",
    "    rks = get_ranks(hand)\n",
    "    different_ranks = len(rks) == len(set(rks))\n",
    "    spanning_five = (max(rks) - min(rks) == 4)\n",
    "    return (not any(hand.count(suit) == 5 for suit in suits)) and \\\n",
    "        different_ranks and spanning_five\n",
    "\n",
    "P(straight, hands)"
   ]
  },
  {
   "cell_type": "code",
   "execution_count": 71,
   "metadata": {},
   "outputs": [
    {
     "data": {
      "text/plain": [
       "Fraction(88, 4165)"
      ]
     },
     "execution_count": 71,
     "metadata": {},
     "output_type": "execute_result"
    }
   ],
   "source": [
    "def three_of_a_kind(hand):\n",
    "    return any(hand.count(rank) == 3 for rank in ranks) and \\\n",
    "        (not any(hand.count(rank) == 2 for rank in ranks))\n",
    "P(three_of_a_kind, hands)"
   ]
  },
  {
   "cell_type": "code",
   "execution_count": 72,
   "metadata": {},
   "outputs": [
    {
     "data": {
      "text/plain": [
       "Fraction(198, 4165)"
      ]
     },
     "execution_count": 72,
     "metadata": {},
     "output_type": "execute_result"
    }
   ],
   "source": [
    "def two_pairs(hand):\n",
    "    return sum([hand.count(rank) == 2 for rank in ranks]) == 2\n",
    "\n",
    "P(two_pairs, hands)"
   ]
  },
  {
   "cell_type": "markdown",
   "metadata": {
    "button": false,
    "new_sheet": false,
    "run_control": {
     "read_only": false
    }
   },
   "source": [
    "## On to Lab3b\n",
    " \n",
    "If you have reached this far then I feel that you should have gained a sense of some of the issues around probability that we are introducing this week, and hopefully learned a few more Python skills/tricks along the way.  If you have questions please note them down and send them along before Wednesday Noon so that we can cover them on Thursday...\n",
    "\n",
    "If you have reached here with lots of time to spare then you may find it interesting to take a look at **Lab3b** where we take a look at some additional interesting ideas from Peter Norwig's tutorial.\n"
   ]
  }
 ],
 "metadata": {
  "kernelspec": {
   "display_name": "Python 3.8.10 64-bit",
   "language": "python",
   "name": "python3"
  },
  "language_info": {
   "codemirror_mode": {
    "name": "ipython",
    "version": 3
   },
   "file_extension": ".py",
   "mimetype": "text/x-python",
   "name": "python",
   "nbconvert_exporter": "python",
   "pygments_lexer": "ipython3",
   "version": "3.8.10"
  },
  "vscode": {
   "interpreter": {
    "hash": "916dbcbb3f70747c44a77c7bcd40155683ae19c65e1c03b4aa3499c5328201f1"
   }
  }
 },
 "nbformat": 4,
 "nbformat_minor": 1
}
